{
  "nbformat": 4,
  "nbformat_minor": 0,
  "metadata": {
    "colab": {
      "provenance": [],
      "authorship_tag": "ABX9TyOH+Bm91kcqdJXXivP0X3Tr",
      "include_colab_link": true
    },
    "kernelspec": {
      "name": "python3",
      "display_name": "Python 3"
    },
    "language_info": {
      "name": "python"
    },
    "gpuClass": "standard"
  },
  "cells": [
    {
      "cell_type": "markdown",
      "metadata": {
        "id": "view-in-github",
        "colab_type": "text"
      },
      "source": [
        "<a href=\"https://colab.research.google.com/github/sagar2582/TensorFlow/blob/main/01_neural_network_regression_with_tensorflow.ipynb\" target=\"_parent\"><img src=\"https://colab.research.google.com/assets/colab-badge.svg\" alt=\"Open In Colab\"/></a>"
      ]
    },
    {
      "cell_type": "markdown",
      "source": [
        "# Introduction to regression with Neural Networks in TensorFlow\n",
        "\n",
        "Predicting numerical variable based on some other combinations of variables."
      ],
      "metadata": {
        "id": "XpaOQxWSrmTm"
      }
    },
    {
      "cell_type": "code",
      "source": [
        "# import TensorFlow\n",
        "import tensorflow as tf\n",
        "print(tf.__version__)"
      ],
      "metadata": {
        "colab": {
          "base_uri": "https://localhost:8080/"
        },
        "id": "GJczpAVtr0cG",
        "outputId": "982ed7d5-0943-4593-ed5e-f66bb35f4f55"
      },
      "execution_count": 1,
      "outputs": [
        {
          "output_type": "stream",
          "name": "stdout",
          "text": [
            "2.12.0\n"
          ]
        }
      ]
    },
    {
      "cell_type": "markdown",
      "source": [
        "## Creating some data to view and fit\n"
      ],
      "metadata": {
        "id": "pMcOgcL4sLue"
      }
    },
    {
      "cell_type": "code",
      "source": [
        "import numpy as np\n",
        "import matplotlib.pyplot as plt\n",
        "\n",
        "# Create features\n",
        "X = np.array([-7.0, -4.0, -1.0, 2.0, 5.0, 8.0, 11.0, 14.0])\n",
        "\n",
        "# Create labels\n",
        "y = np.array([3.0, 6.0, 9.0, 12.0, 15.0, 18.0, 21.0, 24.0])\n",
        "\n",
        "# Visualize it\n",
        "plt.scatter(X, y);"
      ],
      "metadata": {
        "colab": {
          "base_uri": "https://localhost:8080/",
          "height": 435
        },
        "id": "xK_3JIV-um9t",
        "outputId": "8e166ef8-e143-468e-a138-9569dbac7a9f"
      },
      "execution_count": 2,
      "outputs": [
        {
          "output_type": "display_data",
          "data": {
            "text/plain": [
              "<Figure size 640x480 with 1 Axes>"
            ],
            "image/png": "[encoded data removed]"
          },
          "metadata": {}
        }
      ]
    },
    {
      "cell_type": "markdown",
      "source": [
        "## Input and output shapes"
      ],
      "metadata": {
        "id": "-YeK_ajnv7ZF"
      }
    },
    {
      "cell_type": "code",
      "source": [
        "# Create a demo tensor for our housing peice prediction problem\n",
        "house_info = tf.constant([\"bedroom\", \"bathroom\", \"garage\"])\n",
        "house_price = tf.constant([939700])\n",
        "house_info, house_price"
      ],
      "metadata": {
        "colab": {
          "base_uri": "https://localhost:8080/"
        },
        "id": "BKWq-7hGxDFc",
        "outputId": "2ea8d1e9-8eac-48b7-bcc2-97367c1ac1f8"
      },
      "execution_count": 3,
      "outputs": [
        {
          "output_type": "execute_result",
          "data": {
            "text/plain": [
              "(<tf.Tensor: shape=(3,), dtype=string, numpy=array([b'bedroom', b'bathroom', b'garage'], dtype=object)>,\n",
              " <tf.Tensor: shape=(1,), dtype=int32, numpy=array([939700], dtype=int32)>)"
            ]
          },
          "metadata": {},
          "execution_count": 3
        }
      ]
    },
    {
      "cell_type": "code",
      "source": [
        "input_shape = X.shape\n",
        "output_shape = y.shape\n",
        "input_shape, output_shape"
      ],
      "metadata": {
        "colab": {
          "base_uri": "https://localhost:8080/"
        },
        "id": "zJa_2lDj1zyD",
        "outputId": "f4557bf2-6921-4c52-c9ba-7631bed4609d"
      },
      "execution_count": 4,
      "outputs": [
        {
          "output_type": "execute_result",
          "data": {
            "text/plain": [
              "((8,), (8,))"
            ]
          },
          "metadata": {},
          "execution_count": 4
        }
      ]
    },
    {
      "cell_type": "code",
      "source": [
        "# Turn our NumPy arrays into tensors\n",
        "X = tf.constant(X)\n",
        "y = tf.constant(y)\n",
        "X,y"
      ],
      "metadata": {
        "id": "_0QxE2lv2ANJ",
        "colab": {
          "base_uri": "https://localhost:8080/"
        },
        "outputId": "a59937d2-bc31-486c-a3e9-1ed24e92e75e"
      },
      "execution_count": 5,
      "outputs": [
        {
          "output_type": "execute_result",
          "data": {
            "text/plain": [
              "(<tf.Tensor: shape=(8,), dtype=float64, numpy=array([-7., -4., -1.,  2.,  5.,  8., 11., 14.])>,\n",
              " <tf.Tensor: shape=(8,), dtype=float64, numpy=array([ 3.,  6.,  9., 12., 15., 18., 21., 24.])>)"
            ]
          },
          "metadata": {},
          "execution_count": 5
        }
      ]
    },
    {
      "cell_type": "markdown",
      "source": [
        "## Steps in modelling with TensorFlow\n",
        "\n",
        "1. Creating a model - define the input and output layers, as well as the hidden layers of a deep learning model.\n",
        "2. Compiling a model - define the loss function (in other words, the function which tells our model how wrong it is) and the optimizer (tells our model how to improve the patterns its learning) and evaluation metrics (what we use to interpret the performance of our model).\n",
        "3. Fitting a model - letting the model try to find patterns between X & y (features and labels)"
      ],
      "metadata": {
        "id": "uZMsLdeQgbTG"
      }
    },
    {
      "cell_type": "code",
      "source": [
        "# Set random seed\n",
        "tf.random.set_seed(42)\n",
        "\n",
        "# 1. Create a model using the Squential API\n",
        "model = tf.keras.Sequential([\n",
        "    tf.keras.layers.Dense(1)\n",
        "])\n",
        "\n",
        "# 2. Compile the model\n",
        "model.compile(loss=tf.keras.losses.mae, # mae is short for mean absolute error\n",
        "              optimizer=tf.keras.optimizers.SGD(), # sgd - stochastic gradient descent\n",
        "              metrics=[\"mae\"])\n",
        "\n",
        "# 3. Fit the model\n",
        "model.fit(tf.expand_dims(X, axis=-1), y, epochs=5)"
      ],
      "metadata": {
        "colab": {
          "base_uri": "https://localhost:8080/"
        },
        "id": "3LKJHzuEgrdm",
        "outputId": "8415e67d-00db-4402-914b-e65670117f3a"
      },
      "execution_count": 6,
      "outputs": [
        {
          "output_type": "stream",
          "name": "stdout",
          "text": [
            "Epoch 1/5\n",
            "1/1 [==============================] - 1s 1s/step - loss: 15.6398 - mae: 15.6398\n",
            "Epoch 2/5\n",
            "1/1 [==============================] - 0s 18ms/step - loss: 15.3585 - mae: 15.3585\n",
            "Epoch 3/5\n",
            "1/1 [==============================] - 0s 23ms/step - loss: 15.0773 - mae: 15.0773\n",
            "Epoch 4/5\n",
            "1/1 [==============================] - 0s 18ms/step - loss: 14.8528 - mae: 14.8528\n",
            "Epoch 5/5\n",
            "1/1 [==============================] - 0s 18ms/step - loss: 14.7203 - mae: 14.7203\n"
          ]
        },
        {
          "output_type": "execute_result",
          "data": {
            "text/plain": [
              "<keras.callbacks.History at 0x7f27ca24eca0>"
            ]
          },
          "metadata": {},
          "execution_count": 6
        }
      ]
    },
    {
      "cell_type": "code",
      "source": [
        "# Check X and y\n",
        "X, y"
      ],
      "metadata": {
        "colab": {
          "base_uri": "https://localhost:8080/"
        },
        "id": "GEMWIWSGkaIe",
        "outputId": "bfcce944-46f4-4c89-b193-c7831bb9652a"
      },
      "execution_count": 7,
      "outputs": [
        {
          "output_type": "execute_result",
          "data": {
            "text/plain": [
              "(<tf.Tensor: shape=(8,), dtype=float64, numpy=array([-7., -4., -1.,  2.,  5.,  8., 11., 14.])>,\n",
              " <tf.Tensor: shape=(8,), dtype=float64, numpy=array([ 3.,  6.,  9., 12., 15., 18., 21., 24.])>)"
            ]
          },
          "metadata": {},
          "execution_count": 7
        }
      ]
    },
    {
      "cell_type": "code",
      "source": [
        "# Try and make a prediction using our model\n",
        "y_pred = model.predict([17.0])\n",
        "y_pred # 11 points off then where it should be"
      ],
      "metadata": {
        "colab": {
          "base_uri": "https://localhost:8080/"
        },
        "id": "GbAUujGyvNHu",
        "outputId": "3c155099-24b4-4a12-aadd-a4b9a0c91a58"
      },
      "execution_count": 8,
      "outputs": [
        {
          "output_type": "stream",
          "name": "stdout",
          "text": [
            "1/1 [==============================] - 0s 231ms/step\n"
          ]
        },
        {
          "output_type": "execute_result",
          "data": {
            "text/plain": [
              "array([[-5.4473186]], dtype=float32)"
            ]
          },
          "metadata": {},
          "execution_count": 8
        }
      ]
    },
    {
      "cell_type": "code",
      "source": [
        "y_pred + 11"
      ],
      "metadata": {
        "colab": {
          "base_uri": "https://localhost:8080/"
        },
        "id": "Jfk8S_jx-eC2",
        "outputId": "716be04f-5aed-439c-cfc8-f448352fddef"
      },
      "execution_count": 9,
      "outputs": [
        {
          "output_type": "execute_result",
          "data": {
            "text/plain": [
              "array([[5.5526814]], dtype=float32)"
            ]
          },
          "metadata": {},
          "execution_count": 9
        }
      ]
    },
    {
      "cell_type": "markdown",
      "source": [
        "## Improving a Model\n",
        "\n",
        "we can improve our model by: \n",
        "1. **Creting a model** : add more layers, increase the number of hidden units (all called neurons) within each of the hidden layers, change the activation function of each layer.\n",
        "2. **Compiling a model**: change the optimization function or perhaps the **learning rate** of the optimization function.\n",
        "3. **Fitting a model**: fit model for more **epochs** (leave it training for longer) or on more data (give the model more examples to learn from)."
      ],
      "metadata": {
        "id": "Dr8gxCJLMyPI"
      }
    },
    {
      "cell_type": "code",
      "source": [
        "# Let's rebuild our model\n",
        "\n",
        "model = tf.keras.Sequential([\n",
        "    tf.keras.layers.Dense(1)\n",
        "])\n",
        "\n",
        "model.compile(loss=tf.keras.losses.mae,\n",
        "              optimizer=tf.keras.optimizers.SGD(),\n",
        "              metrics=[\"mae\"])\n",
        "\n",
        "model.fit(tf.expand_dims(X, axis=-1), y, epochs=100)"
      ],
      "metadata": {
        "colab": {
          "base_uri": "https://localhost:8080/"
        },
        "id": "lGy8ZNCBM5iv",
        "outputId": "6d509f4a-fbe9-4189-b4f5-b7937cfeaabb"
      },
      "execution_count": 10,
      "outputs": [
        {
          "output_type": "stream",
          "name": "stdout",
          "text": [
            "Epoch 1/100\n",
            "1/1 [==============================] - 1s 748ms/step - loss: 11.8575 - mae: 11.8575\n",
            "Epoch 2/100\n",
            "1/1 [==============================] - 0s 11ms/step - loss: 11.7250 - mae: 11.7250\n",
            "Epoch 3/100\n",
            "1/1 [==============================] - 0s 11ms/step - loss: 11.5925 - mae: 11.5925\n",
            "Epoch 4/100\n",
            "1/1 [==============================] - 0s 11ms/step - loss: 11.4600 - mae: 11.4600\n",
            "Epoch 5/100\n",
            "1/1 [==============================] - 0s 14ms/step - loss: 11.3275 - mae: 11.3275\n",
            "Epoch 6/100\n",
            "1/1 [==============================] - 0s 31ms/step - loss: 11.1950 - mae: 11.1950\n",
            "Epoch 7/100\n",
            "1/1 [==============================] - 0s 17ms/step - loss: 11.0625 - mae: 11.0625\n",
            "Epoch 8/100\n",
            "1/1 [==============================] - 0s 13ms/step - loss: 10.9300 - mae: 10.9300\n",
            "Epoch 9/100\n",
            "1/1 [==============================] - 0s 14ms/step - loss: 10.7975 - mae: 10.7975\n",
            "Epoch 10/100\n",
            "1/1 [==============================] - 0s 43ms/step - loss: 10.6650 - mae: 10.6650\n",
            "Epoch 11/100\n",
            "1/1 [==============================] - 0s 22ms/step - loss: 10.5325 - mae: 10.5325\n",
            "Epoch 12/100\n",
            "1/1 [==============================] - 0s 29ms/step - loss: 10.4000 - mae: 10.4000\n",
            "Epoch 13/100\n",
            "1/1 [==============================] - 0s 29ms/step - loss: 10.2675 - mae: 10.2675\n",
            "Epoch 14/100\n",
            "1/1 [==============================] - 0s 16ms/step - loss: 10.1350 - mae: 10.1350\n",
            "Epoch 15/100\n",
            "1/1 [==============================] - 0s 22ms/step - loss: 10.0025 - mae: 10.0025\n",
            "Epoch 16/100\n",
            "1/1 [==============================] - 0s 19ms/step - loss: 9.8700 - mae: 9.8700\n",
            "Epoch 17/100\n",
            "1/1 [==============================] - 0s 49ms/step - loss: 9.7375 - mae: 9.7375\n",
            "Epoch 18/100\n",
            "1/1 [==============================] - 0s 28ms/step - loss: 9.6050 - mae: 9.6050\n",
            "Epoch 19/100\n",
            "1/1 [==============================] - 0s 10ms/step - loss: 9.4725 - mae: 9.4725\n",
            "Epoch 20/100\n",
            "1/1 [==============================] - 0s 10ms/step - loss: 9.3400 - mae: 9.3400\n",
            "Epoch 21/100\n",
            "1/1 [==============================] - 0s 16ms/step - loss: 9.2075 - mae: 9.2075\n",
            "Epoch 22/100\n",
            "1/1 [==============================] - 0s 13ms/step - loss: 9.0750 - mae: 9.0750\n",
            "Epoch 23/100\n",
            "1/1 [==============================] - 0s 20ms/step - loss: 8.9425 - mae: 8.9425\n",
            "Epoch 24/100\n",
            "1/1 [==============================] - 0s 12ms/step - loss: 8.8100 - mae: 8.8100\n",
            "Epoch 25/100\n",
            "1/1 [==============================] - 0s 12ms/step - loss: 8.6775 - mae: 8.6775\n",
            "Epoch 26/100\n",
            "1/1 [==============================] - 0s 10ms/step - loss: 8.5450 - mae: 8.5450\n",
            "Epoch 27/100\n",
            "1/1 [==============================] - 0s 16ms/step - loss: 8.4125 - mae: 8.4125\n",
            "Epoch 28/100\n",
            "1/1 [==============================] - 0s 17ms/step - loss: 8.2800 - mae: 8.2800\n",
            "Epoch 29/100\n",
            "1/1 [==============================] - 0s 22ms/step - loss: 8.1475 - mae: 8.1475\n",
            "Epoch 30/100\n",
            "1/1 [==============================] - 0s 17ms/step - loss: 8.0150 - mae: 8.0150\n",
            "Epoch 31/100\n",
            "1/1 [==============================] - 0s 29ms/step - loss: 7.8825 - mae: 7.8825\n",
            "Epoch 32/100\n",
            "1/1 [==============================] - 0s 16ms/step - loss: 7.7500 - mae: 7.7500\n",
            "Epoch 33/100\n",
            "1/1 [==============================] - 0s 21ms/step - loss: 7.6175 - mae: 7.6175\n",
            "Epoch 34/100\n",
            "1/1 [==============================] - 0s 18ms/step - loss: 7.4850 - mae: 7.4850\n",
            "Epoch 35/100\n",
            "1/1 [==============================] - 0s 30ms/step - loss: 7.3525 - mae: 7.3525\n",
            "Epoch 36/100\n",
            "1/1 [==============================] - 0s 18ms/step - loss: 7.2375 - mae: 7.2375\n",
            "Epoch 37/100\n",
            "1/1 [==============================] - 0s 26ms/step - loss: 7.2319 - mae: 7.2319\n",
            "Epoch 38/100\n",
            "1/1 [==============================] - 0s 16ms/step - loss: 7.2262 - mae: 7.2262\n",
            "Epoch 39/100\n",
            "1/1 [==============================] - 0s 23ms/step - loss: 7.2206 - mae: 7.2206\n",
            "Epoch 40/100\n",
            "1/1 [==============================] - 0s 24ms/step - loss: 7.2150 - mae: 7.2150\n",
            "Epoch 41/100\n",
            "1/1 [==============================] - 0s 18ms/step - loss: 7.2094 - mae: 7.2094\n",
            "Epoch 42/100\n",
            "1/1 [==============================] - 0s 16ms/step - loss: 7.2038 - mae: 7.2038\n",
            "Epoch 43/100\n",
            "1/1 [==============================] - 0s 12ms/step - loss: 7.1981 - mae: 7.1981\n",
            "Epoch 44/100\n",
            "1/1 [==============================] - 0s 29ms/step - loss: 7.1925 - mae: 7.1925\n",
            "Epoch 45/100\n",
            "1/1 [==============================] - 0s 26ms/step - loss: 7.1869 - mae: 7.1869\n",
            "Epoch 46/100\n",
            "1/1 [==============================] - 0s 22ms/step - loss: 7.1812 - mae: 7.1812\n",
            "Epoch 47/100\n",
            "1/1 [==============================] - 0s 15ms/step - loss: 7.1756 - mae: 7.1756\n",
            "Epoch 48/100\n",
            "1/1 [==============================] - 0s 33ms/step - loss: 7.1700 - mae: 7.1700\n",
            "Epoch 49/100\n",
            "1/1 [==============================] - 0s 36ms/step - loss: 7.1644 - mae: 7.1644\n",
            "Epoch 50/100\n",
            "1/1 [==============================] - 0s 19ms/step - loss: 7.1587 - mae: 7.1587\n",
            "Epoch 51/100\n",
            "1/1 [==============================] - 0s 23ms/step - loss: 7.1531 - mae: 7.1531\n",
            "Epoch 52/100\n",
            "1/1 [==============================] - 0s 17ms/step - loss: 7.1475 - mae: 7.1475\n",
            "Epoch 53/100\n",
            "1/1 [==============================] - 0s 34ms/step - loss: 7.1419 - mae: 7.1419\n",
            "Epoch 54/100\n",
            "1/1 [==============================] - 0s 11ms/step - loss: 7.1363 - mae: 7.1363\n",
            "Epoch 55/100\n",
            "1/1 [==============================] - 0s 10ms/step - loss: 7.1306 - mae: 7.1306\n",
            "Epoch 56/100\n",
            "1/1 [==============================] - 0s 29ms/step - loss: 7.1250 - mae: 7.1250\n",
            "Epoch 57/100\n",
            "1/1 [==============================] - 0s 18ms/step - loss: 7.1194 - mae: 7.1194\n",
            "Epoch 58/100\n",
            "1/1 [==============================] - 0s 9ms/step - loss: 7.1137 - mae: 7.1137\n",
            "Epoch 59/100\n",
            "1/1 [==============================] - 0s 11ms/step - loss: 7.1081 - mae: 7.1081\n",
            "Epoch 60/100\n",
            "1/1 [==============================] - 0s 16ms/step - loss: 7.1025 - mae: 7.1025\n",
            "Epoch 61/100\n",
            "1/1 [==============================] - 0s 37ms/step - loss: 7.0969 - mae: 7.0969\n",
            "Epoch 62/100\n",
            "1/1 [==============================] - 0s 48ms/step - loss: 7.0912 - mae: 7.0912\n",
            "Epoch 63/100\n",
            "1/1 [==============================] - 0s 42ms/step - loss: 7.0856 - mae: 7.0856\n",
            "Epoch 64/100\n",
            "1/1 [==============================] - 0s 23ms/step - loss: 7.0800 - mae: 7.0800\n",
            "Epoch 65/100\n",
            "1/1 [==============================] - 0s 22ms/step - loss: 7.0744 - mae: 7.0744\n",
            "Epoch 66/100\n",
            "1/1 [==============================] - 0s 44ms/step - loss: 7.0687 - mae: 7.0687\n",
            "Epoch 67/100\n",
            "1/1 [==============================] - 0s 19ms/step - loss: 7.0631 - mae: 7.0631\n",
            "Epoch 68/100\n",
            "1/1 [==============================] - 0s 27ms/step - loss: 7.0575 - mae: 7.0575\n",
            "Epoch 69/100\n",
            "1/1 [==============================] - 0s 28ms/step - loss: 7.0519 - mae: 7.0519\n",
            "Epoch 70/100\n",
            "1/1 [==============================] - 0s 16ms/step - loss: 7.0463 - mae: 7.0463\n",
            "Epoch 71/100\n",
            "1/1 [==============================] - 0s 46ms/step - loss: 7.0406 - mae: 7.0406\n",
            "Epoch 72/100\n",
            "1/1 [==============================] - 0s 28ms/step - loss: 7.0350 - mae: 7.0350\n",
            "Epoch 73/100\n",
            "1/1 [==============================] - 0s 27ms/step - loss: 7.0294 - mae: 7.0294\n",
            "Epoch 74/100\n",
            "1/1 [==============================] - 0s 20ms/step - loss: 7.0238 - mae: 7.0238\n",
            "Epoch 75/100\n",
            "1/1 [==============================] - 0s 19ms/step - loss: 7.0181 - mae: 7.0181\n",
            "Epoch 76/100\n",
            "1/1 [==============================] - 0s 14ms/step - loss: 7.0125 - mae: 7.0125\n",
            "Epoch 77/100\n",
            "1/1 [==============================] - 0s 13ms/step - loss: 7.0069 - mae: 7.0069\n",
            "Epoch 78/100\n",
            "1/1 [==============================] - 0s 14ms/step - loss: 7.0013 - mae: 7.0013\n",
            "Epoch 79/100\n",
            "1/1 [==============================] - 0s 12ms/step - loss: 6.9956 - mae: 6.9956\n",
            "Epoch 80/100\n",
            "1/1 [==============================] - 0s 14ms/step - loss: 6.9900 - mae: 6.9900\n",
            "Epoch 81/100\n",
            "1/1 [==============================] - 0s 19ms/step - loss: 6.9844 - mae: 6.9844\n",
            "Epoch 82/100\n",
            "1/1 [==============================] - 0s 15ms/step - loss: 6.9788 - mae: 6.9788\n",
            "Epoch 83/100\n",
            "1/1 [==============================] - 0s 18ms/step - loss: 6.9731 - mae: 6.9731\n",
            "Epoch 84/100\n",
            "1/1 [==============================] - 0s 19ms/step - loss: 6.9675 - mae: 6.9675\n",
            "Epoch 85/100\n",
            "1/1 [==============================] - 0s 19ms/step - loss: 6.9619 - mae: 6.9619\n",
            "Epoch 86/100\n",
            "1/1 [==============================] - 0s 30ms/step - loss: 6.9563 - mae: 6.9563\n",
            "Epoch 87/100\n",
            "1/1 [==============================] - 0s 24ms/step - loss: 6.9506 - mae: 6.9506\n",
            "Epoch 88/100\n",
            "1/1 [==============================] - 0s 18ms/step - loss: 6.9450 - mae: 6.9450\n",
            "Epoch 89/100\n",
            "1/1 [==============================] - 0s 30ms/step - loss: 6.9394 - mae: 6.9394\n",
            "Epoch 90/100\n",
            "1/1 [==============================] - 0s 24ms/step - loss: 6.9338 - mae: 6.9338\n",
            "Epoch 91/100\n",
            "1/1 [==============================] - 0s 24ms/step - loss: 6.9281 - mae: 6.9281\n",
            "Epoch 92/100\n",
            "1/1 [==============================] - 0s 21ms/step - loss: 6.9225 - mae: 6.9225\n",
            "Epoch 93/100\n",
            "1/1 [==============================] - 0s 14ms/step - loss: 6.9169 - mae: 6.9169\n",
            "Epoch 94/100\n",
            "1/1 [==============================] - 0s 24ms/step - loss: 6.9113 - mae: 6.9113\n",
            "Epoch 95/100\n",
            "1/1 [==============================] - 0s 26ms/step - loss: 6.9056 - mae: 6.9056\n",
            "Epoch 96/100\n",
            "1/1 [==============================] - 0s 17ms/step - loss: 6.9000 - mae: 6.9000\n",
            "Epoch 97/100\n",
            "1/1 [==============================] - 0s 39ms/step - loss: 6.8944 - mae: 6.8944\n",
            "Epoch 98/100\n",
            "1/1 [==============================] - 0s 24ms/step - loss: 6.8888 - mae: 6.8888\n",
            "Epoch 99/100\n",
            "1/1 [==============================] - 0s 24ms/step - loss: 6.8831 - mae: 6.8831\n",
            "Epoch 100/100\n",
            "1/1 [==============================] - 0s 22ms/step - loss: 6.8775 - mae: 6.8775\n"
          ]
        },
        {
          "output_type": "execute_result",
          "data": {
            "text/plain": [
              "<keras.callbacks.History at 0x7f27caaec250>"
            ]
          },
          "metadata": {},
          "execution_count": 10
        }
      ]
    },
    {
      "cell_type": "code",
      "source": [
        "X,y"
      ],
      "metadata": {
        "colab": {
          "base_uri": "https://localhost:8080/"
        },
        "id": "Kp24gB5LheUp",
        "outputId": "45f104cf-bf9a-4336-c320-ecdba3f076d6"
      },
      "execution_count": 11,
      "outputs": [
        {
          "output_type": "execute_result",
          "data": {
            "text/plain": [
              "(<tf.Tensor: shape=(8,), dtype=float64, numpy=array([-7., -4., -1.,  2.,  5.,  8., 11., 14.])>,\n",
              " <tf.Tensor: shape=(8,), dtype=float64, numpy=array([ 3.,  6.,  9., 12., 15., 18., 21., 24.])>)"
            ]
          },
          "metadata": {},
          "execution_count": 11
        }
      ]
    },
    {
      "cell_type": "code",
      "source": [
        "model.predict([17.0])"
      ],
      "metadata": {
        "colab": {
          "base_uri": "https://localhost:8080/"
        },
        "id": "UDCSH9p2h0Ig",
        "outputId": "72910090-693d-4c03-fc9e-46e44219dfb9"
      },
      "execution_count": 12,
      "outputs": [
        {
          "output_type": "stream",
          "name": "stdout",
          "text": [
            "1/1 [==============================] - 0s 262ms/step\n"
          ]
        },
        {
          "output_type": "execute_result",
          "data": {
            "text/plain": [
              "array([[29.640234]], dtype=float32)"
            ]
          },
          "metadata": {},
          "execution_count": 12
        }
      ]
    },
    {
      "cell_type": "code",
      "source": [
        "# Let's try to improve the model by adding an extra hidden layer with 100 hidden units.\n",
        "model = tf.keras.Sequential([\n",
        "    tf.keras.layers.Dense(50, activation=None),\n",
        "    tf.keras.layers.Dense(1)\n",
        "])\n",
        "\n",
        "model.compile(loss=tf.keras.losses.mae,\n",
        "              optimizer=tf.keras.optimizers.Adam(lr=0.01),     # changes in learning rate were the most important\n",
        "              metrics=[\"mae\"])\n",
        "\n",
        "model.fit(tf.expand_dims(X, axis=-1), y, epochs=100)"
      ],
      "metadata": {
        "colab": {
          "base_uri": "https://localhost:8080/"
        },
        "id": "OE6-J9LQh6m4",
        "outputId": "41a29cd4-b97b-4296-b8a5-b2f8b9f0e53a"
      },
      "execution_count": 13,
      "outputs": [
        {
          "output_type": "stream",
          "name": "stderr",
          "text": [
            "WARNING:absl:`lr` is deprecated in Keras optimizer, please use `learning_rate` or use the legacy optimizer, e.g.,tf.keras.optimizers.legacy.Adam.\n"
          ]
        },
        {
          "output_type": "stream",
          "name": "stdout",
          "text": [
            "Epoch 1/100\n",
            "1/1 [==============================] - 2s 2s/step - loss: 13.2093 - mae: 13.2093\n",
            "Epoch 2/100\n",
            "1/1 [==============================] - 0s 14ms/step - loss: 13.1450 - mae: 13.1450\n",
            "Epoch 3/100\n",
            "1/1 [==============================] - 0s 13ms/step - loss: 13.0807 - mae: 13.0807\n",
            "Epoch 4/100\n",
            "1/1 [==============================] - 0s 13ms/step - loss: 13.0163 - mae: 13.0163\n",
            "Epoch 5/100\n",
            "1/1 [==============================] - 0s 20ms/step - loss: 12.9519 - mae: 12.9519\n",
            "Epoch 6/100\n",
            "1/1 [==============================] - 0s 20ms/step - loss: 12.8875 - mae: 12.8875\n",
            "Epoch 7/100\n",
            "1/1 [==============================] - 0s 11ms/step - loss: 12.8230 - mae: 12.8230\n",
            "Epoch 8/100\n",
            "1/1 [==============================] - 0s 10ms/step - loss: 12.7585 - mae: 12.7585\n",
            "Epoch 9/100\n",
            "1/1 [==============================] - 0s 12ms/step - loss: 12.6940 - mae: 12.6940\n",
            "Epoch 10/100\n",
            "1/1 [==============================] - 0s 8ms/step - loss: 12.6294 - mae: 12.6294\n",
            "Epoch 11/100\n",
            "1/1 [==============================] - 0s 9ms/step - loss: 12.5647 - mae: 12.5647\n",
            "Epoch 12/100\n",
            "1/1 [==============================] - 0s 29ms/step - loss: 12.5000 - mae: 12.5000\n",
            "Epoch 13/100\n",
            "1/1 [==============================] - 0s 13ms/step - loss: 12.4352 - mae: 12.4352\n",
            "Epoch 14/100\n",
            "1/1 [==============================] - 0s 13ms/step - loss: 12.3704 - mae: 12.3704\n",
            "Epoch 15/100\n",
            "1/1 [==============================] - 0s 12ms/step - loss: 12.3055 - mae: 12.3055\n",
            "Epoch 16/100\n",
            "1/1 [==============================] - 0s 12ms/step - loss: 12.2404 - mae: 12.2404\n",
            "Epoch 17/100\n",
            "1/1 [==============================] - 0s 12ms/step - loss: 12.1753 - mae: 12.1753\n",
            "Epoch 18/100\n",
            "1/1 [==============================] - 0s 11ms/step - loss: 12.1101 - mae: 12.1101\n",
            "Epoch 19/100\n",
            "1/1 [==============================] - 0s 15ms/step - loss: 12.0448 - mae: 12.0448\n",
            "Epoch 20/100\n",
            "1/1 [==============================] - 0s 12ms/step - loss: 11.9793 - mae: 11.9793\n",
            "Epoch 21/100\n",
            "1/1 [==============================] - 0s 12ms/step - loss: 11.9138 - mae: 11.9138\n",
            "Epoch 22/100\n",
            "1/1 [==============================] - 0s 12ms/step - loss: 11.8481 - mae: 11.8481\n",
            "Epoch 23/100\n",
            "1/1 [==============================] - 0s 13ms/step - loss: 11.7822 - mae: 11.7822\n",
            "Epoch 24/100\n",
            "1/1 [==============================] - 0s 24ms/step - loss: 11.7163 - mae: 11.7163\n",
            "Epoch 25/100\n",
            "1/1 [==============================] - 0s 15ms/step - loss: 11.6501 - mae: 11.6501\n",
            "Epoch 26/100\n",
            "1/1 [==============================] - 0s 22ms/step - loss: 11.5839 - mae: 11.5839\n",
            "Epoch 27/100\n",
            "1/1 [==============================] - 0s 18ms/step - loss: 11.5174 - mae: 11.5174\n",
            "Epoch 28/100\n",
            "1/1 [==============================] - 0s 42ms/step - loss: 11.4508 - mae: 11.4508\n",
            "Epoch 29/100\n",
            "1/1 [==============================] - 0s 33ms/step - loss: 11.3840 - mae: 11.3840\n",
            "Epoch 30/100\n",
            "1/1 [==============================] - 0s 17ms/step - loss: 11.3170 - mae: 11.3170\n",
            "Epoch 31/100\n",
            "1/1 [==============================] - 0s 17ms/step - loss: 11.2498 - mae: 11.2498\n",
            "Epoch 32/100\n",
            "1/1 [==============================] - 0s 24ms/step - loss: 11.1823 - mae: 11.1823\n",
            "Epoch 33/100\n",
            "1/1 [==============================] - 0s 17ms/step - loss: 11.1147 - mae: 11.1147\n",
            "Epoch 34/100\n",
            "1/1 [==============================] - 0s 13ms/step - loss: 11.0469 - mae: 11.0469\n",
            "Epoch 35/100\n",
            "1/1 [==============================] - 0s 16ms/step - loss: 10.9788 - mae: 10.9788\n",
            "Epoch 36/100\n",
            "1/1 [==============================] - 0s 18ms/step - loss: 10.9105 - mae: 10.9105\n",
            "Epoch 37/100\n",
            "1/1 [==============================] - 0s 18ms/step - loss: 10.8419 - mae: 10.8419\n",
            "Epoch 38/100\n",
            "1/1 [==============================] - 0s 17ms/step - loss: 10.7731 - mae: 10.7731\n",
            "Epoch 39/100\n",
            "1/1 [==============================] - 0s 15ms/step - loss: 10.7040 - mae: 10.7040\n",
            "Epoch 40/100\n",
            "1/1 [==============================] - 0s 10ms/step - loss: 10.6346 - mae: 10.6346\n",
            "Epoch 41/100\n",
            "1/1 [==============================] - 0s 13ms/step - loss: 10.5650 - mae: 10.5650\n",
            "Epoch 42/100\n",
            "1/1 [==============================] - 0s 15ms/step - loss: 10.4951 - mae: 10.4951\n",
            "Epoch 43/100\n",
            "1/1 [==============================] - 0s 15ms/step - loss: 10.4249 - mae: 10.4249\n",
            "Epoch 44/100\n",
            "1/1 [==============================] - 0s 14ms/step - loss: 10.3544 - mae: 10.3544\n",
            "Epoch 45/100\n",
            "1/1 [==============================] - 0s 13ms/step - loss: 10.2836 - mae: 10.2836\n",
            "Epoch 46/100\n",
            "1/1 [==============================] - 0s 22ms/step - loss: 10.2125 - mae: 10.2125\n",
            "Epoch 47/100\n",
            "1/1 [==============================] - 0s 12ms/step - loss: 10.1411 - mae: 10.1411\n",
            "Epoch 48/100\n",
            "1/1 [==============================] - 0s 14ms/step - loss: 10.0693 - mae: 10.0693\n",
            "Epoch 49/100\n",
            "1/1 [==============================] - 0s 13ms/step - loss: 9.9972 - mae: 9.9972\n",
            "Epoch 50/100\n",
            "1/1 [==============================] - 0s 14ms/step - loss: 9.9248 - mae: 9.9248\n",
            "Epoch 51/100\n",
            "1/1 [==============================] - 0s 20ms/step - loss: 9.8520 - mae: 9.8520\n",
            "Epoch 52/100\n",
            "1/1 [==============================] - 0s 19ms/step - loss: 9.7789 - mae: 9.7789\n",
            "Epoch 53/100\n",
            "1/1 [==============================] - 0s 19ms/step - loss: 9.7054 - mae: 9.7054\n",
            "Epoch 54/100\n",
            "1/1 [==============================] - 0s 22ms/step - loss: 9.6315 - mae: 9.6315\n",
            "Epoch 55/100\n",
            "1/1 [==============================] - 0s 30ms/step - loss: 9.5573 - mae: 9.5573\n",
            "Epoch 56/100\n",
            "1/1 [==============================] - 0s 13ms/step - loss: 9.4827 - mae: 9.4827\n",
            "Epoch 57/100\n",
            "1/1 [==============================] - 0s 11ms/step - loss: 9.4077 - mae: 9.4077\n",
            "Epoch 58/100\n",
            "1/1 [==============================] - 0s 16ms/step - loss: 9.3323 - mae: 9.3323\n",
            "Epoch 59/100\n",
            "1/1 [==============================] - 0s 16ms/step - loss: 9.2565 - mae: 9.2565\n",
            "Epoch 60/100\n",
            "1/1 [==============================] - 0s 22ms/step - loss: 9.1803 - mae: 9.1803\n",
            "Epoch 61/100\n",
            "1/1 [==============================] - 0s 18ms/step - loss: 9.1037 - mae: 9.1037\n",
            "Epoch 62/100\n",
            "1/1 [==============================] - 0s 19ms/step - loss: 9.0266 - mae: 9.0266\n",
            "Epoch 63/100\n",
            "1/1 [==============================] - 0s 21ms/step - loss: 8.9492 - mae: 8.9492\n",
            "Epoch 64/100\n",
            "1/1 [==============================] - 0s 21ms/step - loss: 8.8713 - mae: 8.8713\n",
            "Epoch 65/100\n",
            "1/1 [==============================] - 0s 11ms/step - loss: 8.7929 - mae: 8.7929\n",
            "Epoch 66/100\n",
            "1/1 [==============================] - 0s 33ms/step - loss: 8.7142 - mae: 8.7142\n",
            "Epoch 67/100\n",
            "1/1 [==============================] - 0s 43ms/step - loss: 8.6349 - mae: 8.6349\n",
            "Epoch 68/100\n",
            "1/1 [==============================] - 0s 23ms/step - loss: 8.5552 - mae: 8.5552\n",
            "Epoch 69/100\n",
            "1/1 [==============================] - 0s 18ms/step - loss: 8.4751 - mae: 8.4751\n",
            "Epoch 70/100\n",
            "1/1 [==============================] - 0s 18ms/step - loss: 8.3945 - mae: 8.3945\n",
            "Epoch 71/100\n",
            "1/1 [==============================] - 0s 19ms/step - loss: 8.3134 - mae: 8.3134\n",
            "Epoch 72/100\n",
            "1/1 [==============================] - 0s 25ms/step - loss: 8.2318 - mae: 8.2318\n",
            "Epoch 73/100\n",
            "1/1 [==============================] - 0s 30ms/step - loss: 8.1497 - mae: 8.1497\n",
            "Epoch 74/100\n",
            "1/1 [==============================] - 0s 20ms/step - loss: 8.0672 - mae: 8.0672\n",
            "Epoch 75/100\n",
            "1/1 [==============================] - 0s 18ms/step - loss: 7.9841 - mae: 7.9841\n",
            "Epoch 76/100\n",
            "1/1 [==============================] - 0s 18ms/step - loss: 7.9006 - mae: 7.9006\n",
            "Epoch 77/100\n",
            "1/1 [==============================] - 0s 18ms/step - loss: 7.8165 - mae: 7.8165\n",
            "Epoch 78/100\n",
            "1/1 [==============================] - 0s 18ms/step - loss: 7.7320 - mae: 7.7320\n",
            "Epoch 79/100\n",
            "1/1 [==============================] - 0s 18ms/step - loss: 7.6469 - mae: 7.6469\n",
            "Epoch 80/100\n",
            "1/1 [==============================] - 0s 20ms/step - loss: 7.5612 - mae: 7.5612\n",
            "Epoch 81/100\n",
            "1/1 [==============================] - 0s 18ms/step - loss: 7.4751 - mae: 7.4751\n",
            "Epoch 82/100\n",
            "1/1 [==============================] - 0s 18ms/step - loss: 7.3884 - mae: 7.3884\n",
            "Epoch 83/100\n",
            "1/1 [==============================] - 0s 18ms/step - loss: 7.3011 - mae: 7.3011\n",
            "Epoch 84/100\n",
            "1/1 [==============================] - 0s 20ms/step - loss: 7.2133 - mae: 7.2133\n",
            "Epoch 85/100\n",
            "1/1 [==============================] - 0s 32ms/step - loss: 7.1249 - mae: 7.1249\n",
            "Epoch 86/100\n",
            "1/1 [==============================] - 0s 16ms/step - loss: 7.0360 - mae: 7.0360\n",
            "Epoch 87/100\n",
            "1/1 [==============================] - 0s 14ms/step - loss: 6.9465 - mae: 6.9465\n",
            "Epoch 88/100\n",
            "1/1 [==============================] - 0s 16ms/step - loss: 6.8565 - mae: 6.8565\n",
            "Epoch 89/100\n",
            "1/1 [==============================] - 0s 19ms/step - loss: 6.7658 - mae: 6.7658\n",
            "Epoch 90/100\n",
            "1/1 [==============================] - 0s 23ms/step - loss: 6.7030 - mae: 6.7030\n",
            "Epoch 91/100\n",
            "1/1 [==============================] - 0s 19ms/step - loss: 6.6912 - mae: 6.6912\n",
            "Epoch 92/100\n",
            "1/1 [==============================] - 0s 18ms/step - loss: 6.6797 - mae: 6.6797\n",
            "Epoch 93/100\n",
            "1/1 [==============================] - 0s 19ms/step - loss: 6.6684 - mae: 6.6684\n",
            "Epoch 94/100\n",
            "1/1 [==============================] - 0s 38ms/step - loss: 6.6573 - mae: 6.6573\n",
            "Epoch 95/100\n",
            "1/1 [==============================] - 0s 28ms/step - loss: 6.6465 - mae: 6.6465\n",
            "Epoch 96/100\n",
            "1/1 [==============================] - 0s 24ms/step - loss: 6.6358 - mae: 6.6358\n",
            "Epoch 97/100\n",
            "1/1 [==============================] - 0s 30ms/step - loss: 6.6253 - mae: 6.6253\n",
            "Epoch 98/100\n",
            "1/1 [==============================] - 0s 25ms/step - loss: 6.6149 - mae: 6.6149\n",
            "Epoch 99/100\n",
            "1/1 [==============================] - 0s 23ms/step - loss: 6.6047 - mae: 6.6047\n",
            "Epoch 100/100\n",
            "1/1 [==============================] - 0s 21ms/step - loss: 6.5946 - mae: 6.5946\n"
          ]
        },
        {
          "output_type": "execute_result",
          "data": {
            "text/plain": [
              "<keras.callbacks.History at 0x7f27caa35580>"
            ]
          },
          "metadata": {},
          "execution_count": 13
        }
      ]
    },
    {
      "cell_type": "code",
      "source": [
        "X, y"
      ],
      "metadata": {
        "colab": {
          "base_uri": "https://localhost:8080/"
        },
        "id": "PTwONUPxy1oV",
        "outputId": "46a14539-7a23-4ca0-b2ac-26107bb58512"
      },
      "execution_count": 14,
      "outputs": [
        {
          "output_type": "execute_result",
          "data": {
            "text/plain": [
              "(<tf.Tensor: shape=(8,), dtype=float64, numpy=array([-7., -4., -1.,  2.,  5.,  8., 11., 14.])>,\n",
              " <tf.Tensor: shape=(8,), dtype=float64, numpy=array([ 3.,  6.,  9., 12., 15., 18., 21., 24.])>)"
            ]
          },
          "metadata": {},
          "execution_count": 14
        }
      ]
    },
    {
      "cell_type": "code",
      "source": [
        "model.predict([17.0])"
      ],
      "metadata": {
        "colab": {
          "base_uri": "https://localhost:8080/"
        },
        "id": "F5RgLXSyzTUM",
        "outputId": "276caa12-482d-4b4f-8dfa-19d14f24925b"
      },
      "execution_count": 15,
      "outputs": [
        {
          "output_type": "stream",
          "name": "stdout",
          "text": [
            "1/1 [==============================] - 0s 318ms/step\n"
          ]
        },
        {
          "output_type": "execute_result",
          "data": {
            "text/plain": [
              "array([[31.62696]], dtype=float32)"
            ]
          },
          "metadata": {},
          "execution_count": 15
        }
      ]
    },
    {
      "cell_type": "markdown",
      "source": [
        "## Evaluating a model\n",
        "(hyperparameter tuning)"
      ],
      "metadata": {
        "id": "gCUwmqZozdwN"
      }
    },
    {
      "cell_type": "code",
      "source": [
        "# Visualize while evaluating models for better understanding\n",
        "# Make a bigger dataset\n",
        "X = tf.range(-100,100,4)\n",
        "X"
      ],
      "metadata": {
        "id": "EUAsXaBJFlm-",
        "colab": {
          "base_uri": "https://localhost:8080/"
        },
        "outputId": "d17cce30-ad45-4d28-f75a-fed56adcec2f"
      },
      "execution_count": 16,
      "outputs": [
        {
          "output_type": "execute_result",
          "data": {
            "text/plain": [
              "<tf.Tensor: shape=(50,), dtype=int32, numpy=\n",
              "array([-100,  -96,  -92,  -88,  -84,  -80,  -76,  -72,  -68,  -64,  -60,\n",
              "        -56,  -52,  -48,  -44,  -40,  -36,  -32,  -28,  -24,  -20,  -16,\n",
              "        -12,   -8,   -4,    0,    4,    8,   12,   16,   20,   24,   28,\n",
              "         32,   36,   40,   44,   48,   52,   56,   60,   64,   68,   72,\n",
              "         76,   80,   84,   88,   92,   96], dtype=int32)>"
            ]
          },
          "metadata": {},
          "execution_count": 16
        }
      ]
    },
    {
      "cell_type": "code",
      "source": [
        "y = X + 10\n",
        "y"
      ],
      "metadata": {
        "colab": {
          "base_uri": "https://localhost:8080/"
        },
        "id": "TVB_3oyOSNGU",
        "outputId": "465775a5-2bba-4c0b-8d93-0b0759071f19"
      },
      "execution_count": 17,
      "outputs": [
        {
          "output_type": "execute_result",
          "data": {
            "text/plain": [
              "<tf.Tensor: shape=(50,), dtype=int32, numpy=\n",
              "array([-90, -86, -82, -78, -74, -70, -66, -62, -58, -54, -50, -46, -42,\n",
              "       -38, -34, -30, -26, -22, -18, -14, -10,  -6,  -2,   2,   6,  10,\n",
              "        14,  18,  22,  26,  30,  34,  38,  42,  46,  50,  54,  58,  62,\n",
              "        66,  70,  74,  78,  82,  86,  90,  94,  98, 102, 106], dtype=int32)>"
            ]
          },
          "metadata": {},
          "execution_count": 17
        }
      ]
    },
    {
      "cell_type": "code",
      "source": [
        "plt.plot(X, y);"
      ],
      "metadata": {
        "colab": {
          "base_uri": "https://localhost:8080/",
          "height": 430
        },
        "id": "CXHNiJWCTc3V",
        "outputId": "5beb49bc-3379-43ae-d102-5fb95f06fd7d"
      },
      "execution_count": 18,
      "outputs": [
        {
          "output_type": "display_data",
          "data": {
            "text/plain": [
              "<Figure size 640x480 with 1 Axes>"
            ],
            "image/png": "[encoded data removed]"
          },
          "metadata": {}
        }
      ]
    },
    {
      "cell_type": "code",
      "source": [
        "plt.scatter(X, y);"
      ],
      "metadata": {
        "colab": {
          "base_uri": "https://localhost:8080/",
          "height": 430
        },
        "id": "be5_F1cUTtma",
        "outputId": "727203ea-2958-4ae2-e83d-33c41f440b69"
      },
      "execution_count": 19,
      "outputs": [
        {
          "output_type": "display_data",
          "data": {
            "text/plain": [
              "<Figure size 640x480 with 1 Axes>"
            ],
            "image/png": "[encoded data removed]"
          },
          "metadata": {}
        }
      ]
    },
    {
      "cell_type": "markdown",
      "source": [
        "### The 3 sets...\n",
        "\n",
        "* Training set - 70-80 percent \n",
        "* Validation set - 10-15 percent\n",
        "* Test set - 10-15 percent"
      ],
      "metadata": {
        "id": "uTkFJP84TzBe"
      }
    },
    {
      "cell_type": "code",
      "source": [
        "# check the lenght of how many samples we have\n",
        "len(X)"
      ],
      "metadata": {
        "colab": {
          "base_uri": "https://localhost:8080/"
        },
        "id": "s7FpY9FqT_uk",
        "outputId": "1ae77828-70ef-4a71-f80d-078a48df703f"
      },
      "execution_count": 20,
      "outputs": [
        {
          "output_type": "execute_result",
          "data": {
            "text/plain": [
              "50"
            ]
          },
          "metadata": {},
          "execution_count": 20
        }
      ]
    },
    {
      "cell_type": "code",
      "source": [
        "# Split the data into train and test sets \n",
        "X_train = X[:40] # 1st 40 are training samples (80% of the data)\n",
        "y_train = y[:40]\n",
        "\n",
        "X_test = X[40:]\n",
        "y_test = y[40:]"
      ],
      "metadata": {
        "id": "ip4SPMXAaQjY"
      },
      "execution_count": 21,
      "outputs": []
    },
    {
      "cell_type": "markdown",
      "source": [
        "### Visualizing the data"
      ],
      "metadata": {
        "id": "_Qfely8HcgRb"
      }
    },
    {
      "cell_type": "code",
      "source": [
        "plt.figure(figsize=(10,7))\n",
        "# Plot training data in blue\n",
        "plt.scatter(X_train, y_train, c = \"b\", label = \"Training Data\")\n",
        "# Plot the testing data in green\n",
        "plt.scatter(X_test, y_test, c = \"g\", label=\"Testing Data\")\n",
        "# Show a legend\n",
        "plt.legend();"
      ],
      "metadata": {
        "colab": {
          "base_uri": "https://localhost:8080/",
          "height": 599
        },
        "id": "3twrhifwcjNV",
        "outputId": "aba232db-ea53-485a-8b63-58887829ab64"
      },
      "execution_count": 22,
      "outputs": [
        {
          "output_type": "display_data",
          "data": {
            "text/plain": [
              "<Figure size 1000x700 with 1 Axes>"
            ],
            "image/png": "[encoded data removed]"
          },
          "metadata": {}
        }
      ]
    },
    {
      "cell_type": "code",
      "source": [
        "# Let's build a neural network for our data\n",
        "\n",
        "model = tf.keras.Sequential([\n",
        "    tf.keras.layers.Dense(1)\n",
        "])\n",
        "\n",
        "model.compile(loss = tf.keras.losses.mae,\n",
        "              optimizer = tf.keras.optimizers.SGD(),\n",
        "              metrics = [\"mae\"])\n",
        "\n",
        "# model.fit(X_train, y_train, epochs=100)"
      ],
      "metadata": {
        "id": "Kn1l2lBFdODN"
      },
      "execution_count": 23,
      "outputs": []
    },
    {
      "cell_type": "markdown",
      "source": [
        "### Visualizing the model"
      ],
      "metadata": {
        "id": "zTM9vDGYf6ac"
      }
    },
    {
      "cell_type": "code",
      "source": [
        "# model.summary()"
      ],
      "metadata": {
        "id": "9PkIM8_hgAO5"
      },
      "execution_count": 24,
      "outputs": []
    },
    {
      "cell_type": "code",
      "source": [
        "# Let's create a model which builds automatically by defining the input_shape argument\n",
        "tf.random.set_seed(42)\n",
        "\n",
        "# Create a model (same as above)\n",
        "model = tf.keras.Sequential([\n",
        "    tf.keras.layers.Dense(10, input_shape=[1], name=\"input_layer\"),\n",
        "    tf.keras.layers.Dense(1, name=\"output_layer\") # input shape is \"1\" as we pass one number to get another number through prediction.\n",
        "], name=\"sample_model_1\")\n",
        "\n",
        "# 2. Compile a model\n",
        "model.compile(loss = tf.keras.losses.mae,\n",
        "              optimizer = tf.keras.optimizers.SGD(),\n",
        "              metrics = [\"mae\"])\n"
      ],
      "metadata": {
        "id": "s7S43smCgB62"
      },
      "execution_count": 25,
      "outputs": []
    },
    {
      "cell_type": "code",
      "source": [
        "model.summary()  # Dense ~ Fully Connected Layer"
      ],
      "metadata": {
        "colab": {
          "base_uri": "https://localhost:8080/"
        },
        "id": "eLim8yXTuH8C",
        "outputId": "298d0209-31f6-4e76-ce9a-8a445043bb76"
      },
      "execution_count": 26,
      "outputs": [
        {
          "output_type": "stream",
          "name": "stdout",
          "text": [
            "Model: \"sample_model_1\"\n",
            "_________________________________________________________________\n",
            " Layer (type)                Output Shape              Param #   \n",
            "=================================================================\n",
            " input_layer (Dense)         (None, 10)                20        \n",
            "                                                                 \n",
            " output_layer (Dense)        (None, 1)                 11        \n",
            "                                                                 \n",
            "=================================================================\n",
            "Total params: 31\n",
            "Trainable params: 31\n",
            "Non-trainable params: 0\n",
            "_________________________________________________________________\n"
          ]
        }
      ]
    },
    {
      "cell_type": "markdown",
      "source": [
        "* Total params - total number of parameters in the model.\n",
        "* Trainable parameters - these are the parameteres the model can updates as it trains\n",
        "* Non-trainable params - Not updated while training. Brining in already learnt patters or parameters from other models during **Transfer Learning**"
      ],
      "metadata": {
        "id": "Fik5mHPgxqJc"
      }
    },
    {
      "cell_type": "markdown",
      "source": [
        "### There are **TWO** trainable parameters in every hidden unit."
      ],
      "metadata": {
        "id": "gxAhT6dW33Q8"
      }
    },
    {
      "cell_type": "code",
      "source": [
        "# Let's fit our model to the training data\n",
        "model.fit(X_train, y_train, epochs=100, verbose=0)  # setting verbose to \"0\" to avoid getting long deep learning outputs"
      ],
      "metadata": {
        "colab": {
          "base_uri": "https://localhost:8080/"
        },
        "id": "69JN1lEXVLSN",
        "outputId": "9030b09d-5ddb-4362-8bc2-f6bab1024d30"
      },
      "execution_count": 27,
      "outputs": [
        {
          "output_type": "execute_result",
          "data": {
            "text/plain": [
              "<keras.callbacks.History at 0x7f27c87effa0>"
            ]
          },
          "metadata": {},
          "execution_count": 27
        }
      ]
    },
    {
      "cell_type": "code",
      "source": [
        "# getting a summary\n",
        "model.summary()"
      ],
      "metadata": {
        "colab": {
          "base_uri": "https://localhost:8080/"
        },
        "id": "dFGGxc0_VjXR",
        "outputId": "a22f106b-95f9-450a-e144-fb932b33dd14"
      },
      "execution_count": 28,
      "outputs": [
        {
          "output_type": "stream",
          "name": "stdout",
          "text": [
            "Model: \"sample_model_1\"\n",
            "_________________________________________________________________\n",
            " Layer (type)                Output Shape              Param #   \n",
            "=================================================================\n",
            " input_layer (Dense)         (None, 10)                20        \n",
            "                                                                 \n",
            " output_layer (Dense)        (None, 1)                 11        \n",
            "                                                                 \n",
            "=================================================================\n",
            "Total params: 31\n",
            "Trainable params: 31\n",
            "Non-trainable params: 0\n",
            "_________________________________________________________________\n"
          ]
        }
      ]
    },
    {
      "cell_type": "code",
      "source": [
        "from tensorflow.keras.utils import plot_model\n",
        "plot_model(model=model, show_shapes=True)"
      ],
      "metadata": {
        "colab": {
          "base_uri": "https://localhost:8080/",
          "height": 312
        },
        "id": "lCv2aYkXWcOD",
        "outputId": "4c4cf1e1-f853-4995-ef96-2faaa069a784"
      },
      "execution_count": 29,
      "outputs": [
        {
          "output_type": "execute_result",
          "data": {
            "image/png": "[encoded data removed]",
            "text/plain": [
              "<IPython.core.display.Image object>"
            ]
          },
          "metadata": {},
          "execution_count": 29
        }
      ]
    },
    {
      "cell_type": "markdown",
      "source": [
        "### Visualizing our models predictions\n",
        "\n",
        "To visualize the predictions, plot them against the labels. (Ground truth)."
      ],
      "metadata": {
        "id": "AUHWpYfTW8a1"
      }
    },
    {
      "cell_type": "code",
      "source": [
        "# Make some predictions \n",
        "y_pred = model.predict(X_test)\n",
        "y_pred "
      ],
      "metadata": {
        "colab": {
          "base_uri": "https://localhost:8080/"
        },
        "id": "2V7YiefnoE6b",
        "outputId": "032ba591-3ce9-43cc-c848-ee86678de55a"
      },
      "execution_count": 30,
      "outputs": [
        {
          "output_type": "stream",
          "name": "stdout",
          "text": [
            "1/1 [==============================] - 0s 142ms/step\n"
          ]
        },
        {
          "output_type": "execute_result",
          "data": {
            "text/plain": [
              "array([[ 69.55269 ],\n",
              "       [ 74.076004],\n",
              "       [ 78.59932 ],\n",
              "       [ 83.122635],\n",
              "       [ 87.64596 ],\n",
              "       [ 92.16928 ],\n",
              "       [ 96.6926  ],\n",
              "       [101.21591 ],\n",
              "       [105.739235],\n",
              "       [110.26255 ]], dtype=float32)"
            ]
          },
          "metadata": {},
          "execution_count": 30
        }
      ]
    },
    {
      "cell_type": "code",
      "source": [
        "y_test"
      ],
      "metadata": {
        "colab": {
          "base_uri": "https://localhost:8080/"
        },
        "id": "ziiK8WmnH-1a",
        "outputId": "349af65e-e76f-4a32-c0a5-2bd2b3666e2c"
      },
      "execution_count": 31,
      "outputs": [
        {
          "output_type": "execute_result",
          "data": {
            "text/plain": [
              "<tf.Tensor: shape=(10,), dtype=int32, numpy=array([ 70,  74,  78,  82,  86,  90,  94,  98, 102, 106], dtype=int32)>"
            ]
          },
          "metadata": {},
          "execution_count": 31
        }
      ]
    },
    {
      "cell_type": "code",
      "source": [
        "# Let's create a plotting function\n",
        "\n",
        "def plot_predictions(train_data = X_train, \n",
        "                     train_labels = y_train,\n",
        "                     test_data = X_test,\n",
        "                     test_labels = y_test,\n",
        "                     predictions = y_pred):\n",
        "  '''\n",
        "  Plots training data, test data and compare predictions to the ground truth\n",
        "  '''\n",
        "  plt.figure(figsize = (10,7))\n",
        "  # training data in blue\n",
        "  plt.scatter(train_data, train_labels, c=\"b\", label=\"Training data\")\n",
        "  # training testing data in green\n",
        "  plt.scatter(test_data, test_labels, c=\"g\", label = \"Testing data\")\n",
        "  # Plot model's predictions in red\n",
        "  plt.scatter(test_data, predictions, c = \"r\", label = \"Predictions\")\n",
        "  # Show the legend\n",
        "  plt.legend();\n",
        "\n"
      ],
      "metadata": {
        "id": "QFHNWtWMIAXC"
      },
      "execution_count": 32,
      "outputs": []
    },
    {
      "cell_type": "code",
      "source": [
        "plot_predictions(train_data = X_train, \n",
        "                     train_labels = y_train,\n",
        "                     test_data = X_test,\n",
        "                     test_labels = y_test,\n",
        "                     predictions = y_pred)"
      ],
      "metadata": {
        "colab": {
          "base_uri": "https://localhost:8080/",
          "height": 599
        },
        "id": "UxA-ik1p5PGn",
        "outputId": "9ae3ad56-7070-4b08-c9ee-269757d8b3f6"
      },
      "execution_count": 33,
      "outputs": [
        {
          "output_type": "display_data",
          "data": {
            "text/plain": [
              "<Figure size 1000x700 with 1 Axes>"
            ],
            "image/png": "[encoded data removed]"
          },
          "metadata": {}
        }
      ]
    },
    {
      "cell_type": "markdown",
      "source": [
        "### Evaluating our model's predcition with regression evaluation metrics\n",
        "\n",
        "Depending upon the problem there are different Evaluation metrics, In regression we have two main i.e., MAE, MSE and HUBER - combination of MSE and MAE, less sensative to outlier than MSE."
      ],
      "metadata": {
        "id": "HEP2ESVq6zxZ"
      }
    },
    {
      "cell_type": "code",
      "source": [
        "# Evaluate the model on the test \n",
        "model.evaluate(X_test, y_test)"
      ],
      "metadata": {
        "colab": {
          "base_uri": "https://localhost:8080/"
        },
        "id": "_Z9wUUoY7ioZ",
        "outputId": "8c9679ae-0b96-402e-d986-58d4be33b1c7"
      },
      "execution_count": 34,
      "outputs": [
        {
          "output_type": "stream",
          "name": "stdout",
          "text": [
            "1/1 [==============================] - 0s 268ms/step - loss: 1.9971 - mae: 1.9971\n"
          ]
        },
        {
          "output_type": "execute_result",
          "data": {
            "text/plain": [
              "[1.9970848560333252, 1.9970848560333252]"
            ]
          },
          "metadata": {},
          "execution_count": 34
        }
      ]
    },
    {
      "cell_type": "code",
      "source": [
        "y_pred"
      ],
      "metadata": {
        "colab": {
          "base_uri": "https://localhost:8080/"
        },
        "id": "g43LwOogNcNt",
        "outputId": "e5aabcbb-0a0f-4f47-8305-f5151885edda"
      },
      "execution_count": 35,
      "outputs": [
        {
          "output_type": "execute_result",
          "data": {
            "text/plain": [
              "array([[ 69.55269 ],\n",
              "       [ 74.076004],\n",
              "       [ 78.59932 ],\n",
              "       [ 83.122635],\n",
              "       [ 87.64596 ],\n",
              "       [ 92.16928 ],\n",
              "       [ 96.6926  ],\n",
              "       [101.21591 ],\n",
              "       [105.739235],\n",
              "       [110.26255 ]], dtype=float32)"
            ]
          },
          "metadata": {},
          "execution_count": 35
        }
      ]
    },
    {
      "cell_type": "code",
      "source": [
        "y_test"
      ],
      "metadata": {
        "colab": {
          "base_uri": "https://localhost:8080/"
        },
        "id": "qRgz6C5ONhjl",
        "outputId": "2c048b7f-f86d-4072-bf07-4a6b3e4ea88c"
      },
      "execution_count": 36,
      "outputs": [
        {
          "output_type": "execute_result",
          "data": {
            "text/plain": [
              "<tf.Tensor: shape=(10,), dtype=int32, numpy=array([ 70,  74,  78,  82,  86,  90,  94,  98, 102, 106], dtype=int32)>"
            ]
          },
          "metadata": {},
          "execution_count": 36
        }
      ]
    },
    {
      "cell_type": "code",
      "source": [
        "# Calculate the mean absolute error\n",
        "mae = tf.metrics.mean_absolute_error(y_true=y_test, y_pred=y_pred)\n",
        "mae"
      ],
      "metadata": {
        "colab": {
          "base_uri": "https://localhost:8080/"
        },
        "id": "upS6cSK8NjMs",
        "outputId": "27cb2a0d-f9a4-44e8-d9be-ef6b8c75d398"
      },
      "execution_count": 37,
      "outputs": [
        {
          "output_type": "execute_result",
          "data": {
            "text/plain": [
              "<tf.Tensor: shape=(10,), dtype=float32, numpy=\n",
              "array([18.447311, 14.754397, 12.160273, 10.575473, 10.      , 10.433856,\n",
              "       11.877039, 14.329547, 17.791388, 22.26255 ], dtype=float32)>"
            ]
          },
          "metadata": {},
          "execution_count": 37
        }
      ]
    },
    {
      "cell_type": "code",
      "source": [
        "tf.constant(y_pred)"
      ],
      "metadata": {
        "colab": {
          "base_uri": "https://localhost:8080/"
        },
        "id": "kjEYkSR4O3NN",
        "outputId": "8bc82481-bf7b-4f6b-a97e-58128ad67672"
      },
      "execution_count": 38,
      "outputs": [
        {
          "output_type": "execute_result",
          "data": {
            "text/plain": [
              "<tf.Tensor: shape=(10, 1), dtype=float32, numpy=\n",
              "array([[ 69.55269 ],\n",
              "       [ 74.076004],\n",
              "       [ 78.59932 ],\n",
              "       [ 83.122635],\n",
              "       [ 87.64596 ],\n",
              "       [ 92.16928 ],\n",
              "       [ 96.6926  ],\n",
              "       [101.21591 ],\n",
              "       [105.739235],\n",
              "       [110.26255 ]], dtype=float32)>"
            ]
          },
          "metadata": {},
          "execution_count": 38
        }
      ]
    },
    {
      "cell_type": "code",
      "source": [
        "tf.squeeze(y_pred)"
      ],
      "metadata": {
        "colab": {
          "base_uri": "https://localhost:8080/"
        },
        "id": "tpWI5D89PTgr",
        "outputId": "98ac4664-e445-4a2d-aa46-9b5cd23bd9ac"
      },
      "execution_count": 39,
      "outputs": [
        {
          "output_type": "execute_result",
          "data": {
            "text/plain": [
              "<tf.Tensor: shape=(10,), dtype=float32, numpy=\n",
              "array([ 69.55269 ,  74.076004,  78.59932 ,  83.122635,  87.64596 ,\n",
              "        92.16928 ,  96.6926  , 101.21591 , 105.739235, 110.26255 ],\n",
              "      dtype=float32)>"
            ]
          },
          "metadata": {},
          "execution_count": 39
        }
      ]
    },
    {
      "cell_type": "code",
      "source": [
        "# Again calulating the MAE after removing the extra layer \n",
        "mae = tf.metrics.mean_absolute_error(y_true=y_test, y_pred=tf.squeeze(y_pred))\n",
        "mae"
      ],
      "metadata": {
        "colab": {
          "base_uri": "https://localhost:8080/"
        },
        "id": "36nBE0R2PZHD",
        "outputId": "0c2747f5-8171-4b67-bb54-ca8d37a7d60f"
      },
      "execution_count": 40,
      "outputs": [
        {
          "output_type": "execute_result",
          "data": {
            "text/plain": [
              "<tf.Tensor: shape=(), dtype=float32, numpy=1.9970802>"
            ]
          },
          "metadata": {},
          "execution_count": 40
        }
      ]
    },
    {
      "cell_type": "code",
      "source": [
        "# Calculate the mean squared error\n",
        "mse = tf.metrics.mean_squared_error(y_true=y_test, y_pred=tf.squeeze(y_pred))\n",
        "mse"
      ],
      "metadata": {
        "colab": {
          "base_uri": "https://localhost:8080/"
        },
        "id": "y3XMwMTiToaj",
        "outputId": "10497c42-0278-456f-e4f4-828a825bf85f"
      },
      "execution_count": 41,
      "outputs": [
        {
          "output_type": "execute_result",
          "data": {
            "text/plain": [
              "<tf.Tensor: shape=(), dtype=float32, numpy=5.8983693>"
            ]
          },
          "metadata": {},
          "execution_count": 41
        }
      ]
    },
    {
      "cell_type": "code",
      "source": [
        "# Functions for MAE and MSE\n",
        "def mae(y_true, y_pred):\n",
        "  return tf.metrics.mean_absolute_error(y_true=y_true,\n",
        "                                        y_pred=tf.squeeze(y_pred))\n",
        "  \n",
        "def mse(y_true, y_pred):\n",
        "  return tf.metrics.mean_squared_error(y_true=y_true,\n",
        "                                       y_pred=tf.squeeze(y_pred))"
      ],
      "metadata": {
        "id": "ZABnUIGlUGqa"
      },
      "execution_count": 42,
      "outputs": []
    },
    {
      "cell_type": "markdown",
      "source": [
        "### Running experiments to improve our model."
      ],
      "metadata": {
        "id": "G-hYAB2HY5Sy"
      }
    },
    {
      "cell_type": "code",
      "source": [
        " X_train, y_train"
      ],
      "metadata": {
        "colab": {
          "base_uri": "https://localhost:8080/"
        },
        "id": "d3bckgRAn4s6",
        "outputId": "d58bc8c1-2af1-453c-97bf-42494452a096"
      },
      "execution_count": 43,
      "outputs": [
        {
          "output_type": "execute_result",
          "data": {
            "text/plain": [
              "(<tf.Tensor: shape=(40,), dtype=int32, numpy=\n",
              " array([-100,  -96,  -92,  -88,  -84,  -80,  -76,  -72,  -68,  -64,  -60,\n",
              "         -56,  -52,  -48,  -44,  -40,  -36,  -32,  -28,  -24,  -20,  -16,\n",
              "         -12,   -8,   -4,    0,    4,    8,   12,   16,   20,   24,   28,\n",
              "          32,   36,   40,   44,   48,   52,   56], dtype=int32)>,\n",
              " <tf.Tensor: shape=(40,), dtype=int32, numpy=\n",
              " array([-90, -86, -82, -78, -74, -70, -66, -62, -58, -54, -50, -46, -42,\n",
              "        -38, -34, -30, -26, -22, -18, -14, -10,  -6,  -2,   2,   6,  10,\n",
              "         14,  18,  22,  26,  30,  34,  38,  42,  46,  50,  54,  58,  62,\n",
              "         66], dtype=int32)>)"
            ]
          },
          "metadata": {},
          "execution_count": 43
        }
      ]
    },
    {
      "cell_type": "markdown",
      "source": [
        "let's do three modelling experiments:\n",
        "\n",
        "1. `model_1` - same as the original model, 1 layer, trained for 100 epochs\n",
        "2. `model_2` - 2 layers, trained for 100 epochs\n",
        "3. `model_3` - 3 layers, trained for 500 epochs\n"
      ],
      "metadata": {
        "id": "WDuA9hyBodqK"
      }
    },
    {
      "cell_type": "markdown",
      "source": [
        "## Build model_1"
      ],
      "metadata": {
        "id": "myV-kRuErS7B"
      }
    },
    {
      "cell_type": "code",
      "source": [
        "# Set random seed\n",
        "tf.random.set_seed(42)\n",
        "\n",
        "# 1. Create the model\n",
        "model_1 = tf.keras.Sequential([\n",
        "    tf.keras.layers.Dense(1)\n",
        "])\n",
        "\n",
        "# 2. Compile the model\n",
        "model_1.compile(loss=tf.keras.losses.mae,\n",
        "                optimizer=tf.keras.optimizers.SGD(),\n",
        "                metrics=[\"mae\"])\n",
        "\n",
        "# 3. Fit the model\n",
        "model_1.fit(tf.expand_dims(X_train, axis=-1), y_train, epochs=100)"
      ],
      "metadata": {
        "colab": {
          "base_uri": "https://localhost:8080/"
        },
        "id": "SSy_Dn6EsY2I",
        "outputId": "562681e3-ebb2-47e8-d7bf-054334b5feee"
      },
      "execution_count": 44,
      "outputs": [
        {
          "output_type": "stream",
          "name": "stdout",
          "text": [
            "Epoch 1/100\n",
            "2/2 [==============================] - 2s 33ms/step - loss: 18.8511 - mae: 18.8511\n",
            "Epoch 2/100\n",
            "2/2 [==============================] - 0s 19ms/step - loss: 8.3295 - mae: 8.3295\n",
            "Epoch 3/100\n",
            "2/2 [==============================] - 0s 40ms/step - loss: 10.4507 - mae: 10.4507\n",
            "Epoch 4/100\n",
            "2/2 [==============================] - 0s 38ms/step - loss: 12.9234 - mae: 12.9234\n",
            "Epoch 5/100\n",
            "2/2 [==============================] - 0s 44ms/step - loss: 11.9654 - mae: 11.9654\n",
            "Epoch 6/100\n",
            "2/2 [==============================] - 0s 44ms/step - loss: 9.2568 - mae: 9.2568\n",
            "Epoch 7/100\n",
            "2/2 [==============================] - 0s 50ms/step - loss: 8.4254 - mae: 8.4254\n",
            "Epoch 8/100\n",
            "2/2 [==============================] - 0s 49ms/step - loss: 9.0323 - mae: 9.0323\n",
            "Epoch 9/100\n",
            "2/2 [==============================] - 0s 58ms/step - loss: 18.3879 - mae: 18.3879\n",
            "Epoch 10/100\n",
            "2/2 [==============================] - 0s 36ms/step - loss: 9.9121 - mae: 9.9121\n",
            "Epoch 11/100\n",
            "2/2 [==============================] - 0s 28ms/step - loss: 8.3196 - mae: 8.3196\n",
            "Epoch 12/100\n",
            "2/2 [==============================] - 0s 57ms/step - loss: 10.5022 - mae: 10.5022\n",
            "Epoch 13/100\n",
            "2/2 [==============================] - 0s 50ms/step - loss: 9.7335 - mae: 9.7335\n",
            "Epoch 14/100\n",
            "2/2 [==============================] - 0s 27ms/step - loss: 15.6228 - mae: 15.6228\n",
            "Epoch 15/100\n",
            "2/2 [==============================] - 0s 56ms/step - loss: 11.7112 - mae: 11.7112\n",
            "Epoch 16/100\n",
            "2/2 [==============================] - 0s 14ms/step - loss: 8.4490 - mae: 8.4490\n",
            "Epoch 17/100\n",
            "2/2 [==============================] - 0s 19ms/step - loss: 13.4256 - mae: 13.4256\n",
            "Epoch 18/100\n",
            "2/2 [==============================] - 0s 16ms/step - loss: 11.2014 - mae: 11.2014\n",
            "Epoch 19/100\n",
            "2/2 [==============================] - 0s 20ms/step - loss: 18.3288 - mae: 18.3288\n",
            "Epoch 20/100\n",
            "2/2 [==============================] - 0s 14ms/step - loss: 15.0334 - mae: 15.0334\n",
            "Epoch 21/100\n",
            "2/2 [==============================] - 0s 22ms/step - loss: 11.0083 - mae: 11.0083\n",
            "Epoch 22/100\n",
            "2/2 [==============================] - 0s 21ms/step - loss: 8.1439 - mae: 8.1439\n",
            "Epoch 23/100\n",
            "2/2 [==============================] - 0s 15ms/step - loss: 9.5233 - mae: 9.5233\n",
            "Epoch 24/100\n",
            "2/2 [==============================] - 0s 19ms/step - loss: 7.6592 - mae: 7.6592\n",
            "Epoch 25/100\n",
            "2/2 [==============================] - 0s 26ms/step - loss: 13.2072 - mae: 13.2072\n",
            "Epoch 26/100\n",
            "2/2 [==============================] - 0s 12ms/step - loss: 16.4053 - mae: 16.4053\n",
            "Epoch 27/100\n",
            "2/2 [==============================] - 0s 40ms/step - loss: 13.1529 - mae: 13.1529\n",
            "Epoch 28/100\n",
            "2/2 [==============================] - 0s 16ms/step - loss: 14.2392 - mae: 14.2392\n",
            "Epoch 29/100\n",
            "2/2 [==============================] - 0s 15ms/step - loss: 10.0626 - mae: 10.0626\n",
            "Epoch 30/100\n",
            "2/2 [==============================] - 0s 19ms/step - loss: 16.3158 - mae: 16.3158\n",
            "Epoch 31/100\n",
            "2/2 [==============================] - 0s 14ms/step - loss: 23.6675 - mae: 23.6675\n",
            "Epoch 32/100\n",
            "2/2 [==============================] - 0s 30ms/step - loss: 7.6254 - mae: 7.6254\n",
            "Epoch 33/100\n",
            "2/2 [==============================] - 0s 18ms/step - loss: 9.3272 - mae: 9.3272\n",
            "Epoch 34/100\n",
            "2/2 [==============================] - 0s 10ms/step - loss: 13.7485 - mae: 13.7485\n",
            "Epoch 35/100\n",
            "2/2 [==============================] - 0s 8ms/step - loss: 11.1179 - mae: 11.1179\n",
            "Epoch 36/100\n",
            "2/2 [==============================] - 0s 23ms/step - loss: 13.3027 - mae: 13.3027\n",
            "Epoch 37/100\n",
            "2/2 [==============================] - 0s 10ms/step - loss: 9.4841 - mae: 9.4841\n",
            "Epoch 38/100\n",
            "2/2 [==============================] - 0s 19ms/step - loss: 10.1494 - mae: 10.1494\n",
            "Epoch 39/100\n",
            "2/2 [==============================] - 0s 10ms/step - loss: 10.1695 - mae: 10.1695\n",
            "Epoch 40/100\n",
            "2/2 [==============================] - 0s 11ms/step - loss: 10.9002 - mae: 10.9002\n",
            "Epoch 41/100\n",
            "2/2 [==============================] - 0s 9ms/step - loss: 7.8957 - mae: 7.8957\n",
            "Epoch 42/100\n",
            "2/2 [==============================] - 0s 16ms/step - loss: 10.1009 - mae: 10.1009\n",
            "Epoch 43/100\n",
            "2/2 [==============================] - 0s 11ms/step - loss: 8.7047 - mae: 8.7047\n",
            "Epoch 44/100\n",
            "2/2 [==============================] - 0s 12ms/step - loss: 12.2220 - mae: 12.2220\n",
            "Epoch 45/100\n",
            "2/2 [==============================] - 0s 10ms/step - loss: 13.7804 - mae: 13.7804\n",
            "Epoch 46/100\n",
            "2/2 [==============================] - 0s 17ms/step - loss: 8.4575 - mae: 8.4575\n",
            "Epoch 47/100\n",
            "2/2 [==============================] - 0s 9ms/step - loss: 9.1412 - mae: 9.1412\n",
            "Epoch 48/100\n",
            "2/2 [==============================] - 0s 9ms/step - loss: 10.6309 - mae: 10.6309\n",
            "Epoch 49/100\n",
            "2/2 [==============================] - 0s 8ms/step - loss: 7.7574 - mae: 7.7574\n",
            "Epoch 50/100\n",
            "2/2 [==============================] - 0s 9ms/step - loss: 9.5517 - mae: 9.5517\n",
            "Epoch 51/100\n",
            "2/2 [==============================] - 0s 9ms/step - loss: 9.1611 - mae: 9.1611\n",
            "Epoch 52/100\n",
            "2/2 [==============================] - 0s 19ms/step - loss: 16.3863 - mae: 16.3863\n",
            "Epoch 53/100\n",
            "2/2 [==============================] - 0s 27ms/step - loss: 14.1199 - mae: 14.1199\n",
            "Epoch 54/100\n",
            "2/2 [==============================] - 0s 16ms/step - loss: 21.0990 - mae: 21.0990\n",
            "Epoch 55/100\n",
            "2/2 [==============================] - 0s 8ms/step - loss: 16.4173 - mae: 16.4173\n",
            "Epoch 56/100\n",
            "2/2 [==============================] - 0s 17ms/step - loss: 9.9202 - mae: 9.9202\n",
            "Epoch 57/100\n",
            "2/2 [==============================] - 0s 8ms/step - loss: 9.6235 - mae: 9.6235\n",
            "Epoch 58/100\n",
            "2/2 [==============================] - 0s 8ms/step - loss: 8.9539 - mae: 8.9539\n",
            "Epoch 59/100\n",
            "2/2 [==============================] - 0s 7ms/step - loss: 10.1440 - mae: 10.1440\n",
            "Epoch 60/100\n",
            "2/2 [==============================] - 0s 7ms/step - loss: 8.4467 - mae: 8.4467\n",
            "Epoch 61/100\n",
            "2/2 [==============================] - 0s 11ms/step - loss: 9.2988 - mae: 9.2988\n",
            "Epoch 62/100\n",
            "2/2 [==============================] - 0s 9ms/step - loss: 7.0734 - mae: 7.0734\n",
            "Epoch 63/100\n",
            "2/2 [==============================] - 0s 10ms/step - loss: 8.6293 - mae: 8.6293\n",
            "Epoch 64/100\n",
            "2/2 [==============================] - 0s 16ms/step - loss: 9.2081 - mae: 9.2081\n",
            "Epoch 65/100\n",
            "2/2 [==============================] - 0s 10ms/step - loss: 10.4473 - mae: 10.4473\n",
            "Epoch 66/100\n",
            "2/2 [==============================] - 0s 13ms/step - loss: 15.6893 - mae: 15.6893\n",
            "Epoch 67/100\n",
            "2/2 [==============================] - 0s 7ms/step - loss: 10.0720 - mae: 10.0720\n",
            "Epoch 68/100\n",
            "2/2 [==============================] - 0s 13ms/step - loss: 9.0352 - mae: 9.0352\n",
            "Epoch 69/100\n",
            "2/2 [==============================] - 0s 19ms/step - loss: 12.5603 - mae: 12.5603\n",
            "Epoch 70/100\n",
            "2/2 [==============================] - 0s 15ms/step - loss: 8.9584 - mae: 8.9584\n",
            "Epoch 71/100\n",
            "2/2 [==============================] - 0s 8ms/step - loss: 9.9336 - mae: 9.9336\n",
            "Epoch 72/100\n",
            "2/2 [==============================] - 0s 12ms/step - loss: 9.9724 - mae: 9.9724\n",
            "Epoch 73/100\n",
            "2/2 [==============================] - 0s 9ms/step - loss: 12.4403 - mae: 12.4403\n",
            "Epoch 74/100\n",
            "2/2 [==============================] - 0s 6ms/step - loss: 10.5745 - mae: 10.5745\n",
            "Epoch 75/100\n",
            "2/2 [==============================] - 0s 13ms/step - loss: 9.6313 - mae: 9.6313\n",
            "Epoch 76/100\n",
            "2/2 [==============================] - 0s 9ms/step - loss: 11.0973 - mae: 11.0973\n",
            "Epoch 77/100\n",
            "2/2 [==============================] - 0s 13ms/step - loss: 8.2798 - mae: 8.2798\n",
            "Epoch 78/100\n",
            "2/2 [==============================] - 0s 17ms/step - loss: 8.9703 - mae: 8.9703\n",
            "Epoch 79/100\n",
            "2/2 [==============================] - 0s 13ms/step - loss: 19.7874 - mae: 19.7874\n",
            "Epoch 80/100\n",
            "2/2 [==============================] - 0s 10ms/step - loss: 17.8192 - mae: 17.8192\n",
            "Epoch 81/100\n",
            "2/2 [==============================] - 0s 12ms/step - loss: 7.0794 - mae: 7.0794\n",
            "Epoch 82/100\n",
            "2/2 [==============================] - 0s 11ms/step - loss: 10.4090 - mae: 10.4090\n",
            "Epoch 83/100\n",
            "2/2 [==============================] - 0s 12ms/step - loss: 9.8326 - mae: 9.8326\n",
            "Epoch 84/100\n",
            "2/2 [==============================] - 0s 9ms/step - loss: 7.9376 - mae: 7.9376\n",
            "Epoch 85/100\n",
            "2/2 [==============================] - 0s 9ms/step - loss: 9.4463 - mae: 9.4463\n",
            "Epoch 86/100\n",
            "2/2 [==============================] - 0s 13ms/step - loss: 9.4911 - mae: 9.4911\n",
            "Epoch 87/100\n",
            "2/2 [==============================] - 0s 9ms/step - loss: 11.4350 - mae: 11.4350\n",
            "Epoch 88/100\n",
            "2/2 [==============================] - 0s 10ms/step - loss: 9.9337 - mae: 9.9337\n",
            "Epoch 89/100\n",
            "2/2 [==============================] - 0s 9ms/step - loss: 7.2529 - mae: 7.2529\n",
            "Epoch 90/100\n",
            "2/2 [==============================] - 0s 17ms/step - loss: 12.6932 - mae: 12.6932\n",
            "Epoch 91/100\n",
            "2/2 [==============================] - 0s 12ms/step - loss: 7.3115 - mae: 7.3115\n",
            "Epoch 92/100\n",
            "2/2 [==============================] - 0s 11ms/step - loss: 7.6747 - mae: 7.6747\n",
            "Epoch 93/100\n",
            "2/2 [==============================] - 0s 11ms/step - loss: 7.1190 - mae: 7.1190\n",
            "Epoch 94/100\n",
            "2/2 [==============================] - 0s 9ms/step - loss: 12.5412 - mae: 12.5412\n",
            "Epoch 95/100\n",
            "2/2 [==============================] - 0s 17ms/step - loss: 9.9171 - mae: 9.9171\n",
            "Epoch 96/100\n",
            "2/2 [==============================] - 0s 15ms/step - loss: 9.1426 - mae: 9.1426\n",
            "Epoch 97/100\n",
            "2/2 [==============================] - 0s 16ms/step - loss: 12.0904 - mae: 12.0904\n",
            "Epoch 98/100\n",
            "2/2 [==============================] - 0s 15ms/step - loss: 9.0632 - mae: 9.0632\n",
            "Epoch 99/100\n",
            "2/2 [==============================] - 0s 15ms/step - loss: 8.4995 - mae: 8.4995\n",
            "Epoch 100/100\n",
            "2/2 [==============================] - 0s 12ms/step - loss: 14.4671 - mae: 14.4671\n"
          ]
        },
        {
          "output_type": "execute_result",
          "data": {
            "text/plain": [
              "<keras.callbacks.History at 0x7f27cfb7b7c0>"
            ]
          },
          "metadata": {},
          "execution_count": 44
        }
      ]
    },
    {
      "cell_type": "code",
      "source": [
        "# Make and plot predictions for model_1\n",
        "y_pred_1 = model_1.predict(X_test)\n",
        "plot_predictions(predictions=y_pred_1);"
      ],
      "metadata": {
        "id": "mg2d0ORYxkL_",
        "colab": {
          "base_uri": "https://localhost:8080/",
          "height": 655
        },
        "outputId": "19369121-561f-4371-bf24-94ac7b8b0355"
      },
      "execution_count": 45,
      "outputs": [
        {
          "output_type": "stream",
          "name": "stderr",
          "text": [
            "WARNING:tensorflow:5 out of the last 5 calls to <function Model.make_predict_function.<locals>.predict_function at 0x7f27cfb54550> triggered tf.function retracing. Tracing is expensive and the excessive number of tracings could be due to (1) creating @tf.function repeatedly in a loop, (2) passing tensors with different shapes, (3) passing Python objects instead of tensors. For (1), please define your @tf.function outside of the loop. For (2), @tf.function has reduce_retracing=True option that can avoid unnecessary retracing. For (3), please refer to https://www.tensorflow.org/guide/function#controlling_retracing and https://www.tensorflow.org/api_docs/python/tf/function for  more details.\n"
          ]
        },
        {
          "output_type": "stream",
          "name": "stdout",
          "text": [
            "1/1 [==============================] - 0s 48ms/step\n"
          ]
        },
        {
          "output_type": "display_data",
          "data": {
            "text/plain": [
              "<Figure size 1000x700 with 1 Axes>"
            ],
            "image/png": "[encoded data removed]"
          },
          "metadata": {}
        }
      ]
    },
    {
      "cell_type": "code",
      "source": [
        "# Calculate model_1 evaluation metrics\n",
        "mae_1 = mae(y_test, y_pred_1)\n",
        "mse_1 = mse(y_test, y_pred_1)\n",
        "mae_1, mse_1"
      ],
      "metadata": {
        "colab": {
          "base_uri": "https://localhost:8080/"
        },
        "id": "szFIpLD12ys0",
        "outputId": "9a4ee4ec-0a49-496c-dc8f-9a12a3c64ecf"
      },
      "execution_count": 46,
      "outputs": [
        {
          "output_type": "execute_result",
          "data": {
            "text/plain": [
              "(<tf.Tensor: shape=(), dtype=float32, numpy=30.586924>,\n",
              " <tf.Tensor: shape=(), dtype=float32, numpy=945.9513>)"
            ]
          },
          "metadata": {},
          "execution_count": 46
        }
      ]
    },
    {
      "cell_type": "markdown",
      "source": [
        "### Model_2\n",
        "* 2 Dense layers (Fully Connecterd layers) trained for 100 epochs\n"
      ],
      "metadata": {
        "id": "BZ9WihXv3MwW"
      }
    },
    {
      "cell_type": "code",
      "source": [
        "# Set the random seed\n",
        "tf.random.set_seed(42)\n",
        "\n",
        "# 1. Create the model\n",
        "model_2 = tf.keras.Sequential([\n",
        "    tf.keras.layers.Dense(10),\n",
        "    tf.keras.layers.Dense(1) \n",
        "])\n",
        "\n",
        "# 2. Compile the model\n",
        "model_2.compile(loss=tf.keras.losses.mae,\n",
        "                optimizer=tf.keras.optimizers.SGD(),\n",
        "                metrics=[\"mse\"])\n",
        "                \n",
        "# 3. Fit the model\n",
        "model_2.fit(tf.expand_dims(X_train, axis=-1), y_train, epochs=100)"
      ],
      "metadata": {
        "colab": {
          "base_uri": "https://localhost:8080/"
        },
        "id": "Iy0lxuFj3wWy",
        "outputId": "101ae620-9e3c-409e-e950-244c43782841"
      },
      "execution_count": 47,
      "outputs": [
        {
          "output_type": "stream",
          "name": "stdout",
          "text": [
            "Epoch 1/100\n",
            "2/2 [==============================] - 1s 15ms/step - loss: 72.1373 - mse: 7984.0938\n",
            "Epoch 2/100\n",
            "2/2 [==============================] - 0s 9ms/step - loss: 25.9203 - mse: 1043.5634\n",
            "Epoch 3/100\n",
            "2/2 [==============================] - 0s 13ms/step - loss: 18.9069 - mse: 523.5765\n",
            "Epoch 4/100\n",
            "2/2 [==============================] - 0s 11ms/step - loss: 13.7833 - mse: 251.0603\n",
            "Epoch 5/100\n",
            "2/2 [==============================] - 0s 12ms/step - loss: 15.3327 - mse: 299.3546\n",
            "Epoch 6/100\n",
            "2/2 [==============================] - 0s 11ms/step - loss: 12.1857 - mse: 183.0167\n",
            "Epoch 7/100\n",
            "2/2 [==============================] - 0s 10ms/step - loss: 11.4986 - mse: 161.0713\n",
            "Epoch 8/100\n",
            "2/2 [==============================] - 0s 10ms/step - loss: 11.2396 - mse: 176.1622\n",
            "Epoch 9/100\n",
            "2/2 [==============================] - 0s 10ms/step - loss: 42.0253 - mse: 2818.0869\n",
            "Epoch 10/100\n",
            "2/2 [==============================] - 0s 11ms/step - loss: 29.2185 - mse: 1207.4707\n",
            "Epoch 11/100\n",
            "2/2 [==============================] - 0s 11ms/step - loss: 7.6827 - mse: 84.5024\n",
            "Epoch 12/100\n",
            "2/2 [==============================] - 0s 11ms/step - loss: 28.6461 - mse: 1122.7532\n",
            "Epoch 13/100\n",
            "2/2 [==============================] - 0s 10ms/step - loss: 11.4784 - mse: 144.8524\n",
            "Epoch 14/100\n",
            "2/2 [==============================] - 0s 10ms/step - loss: 30.0166 - mse: 1440.8224\n",
            "Epoch 15/100\n",
            "2/2 [==============================] - 0s 13ms/step - loss: 19.8374 - mse: 551.0610\n",
            "Epoch 16/100\n",
            "2/2 [==============================] - 0s 9ms/step - loss: 9.8759 - mse: 126.0531\n",
            "Epoch 17/100\n",
            "2/2 [==============================] - 0s 10ms/step - loss: 17.7317 - mse: 415.6589\n",
            "Epoch 18/100\n",
            "2/2 [==============================] - 0s 10ms/step - loss: 14.2030 - mse: 318.5673\n",
            "Epoch 19/100\n",
            "2/2 [==============================] - 0s 11ms/step - loss: 14.0456 - mse: 308.0106\n",
            "Epoch 20/100\n",
            "2/2 [==============================] - 0s 11ms/step - loss: 11.2507 - mse: 146.9136\n",
            "Epoch 21/100\n",
            "2/2 [==============================] - 0s 11ms/step - loss: 17.3705 - mse: 428.0723\n",
            "Epoch 22/100\n",
            "2/2 [==============================] - 0s 14ms/step - loss: 15.6064 - mse: 335.9010\n",
            "Epoch 23/100\n",
            "2/2 [==============================] - 0s 9ms/step - loss: 9.2373 - mse: 118.7927\n",
            "Epoch 24/100\n",
            "2/2 [==============================] - 0s 9ms/step - loss: 17.2333 - mse: 406.5705\n",
            "Epoch 25/100\n",
            "2/2 [==============================] - 0s 10ms/step - loss: 15.9181 - mse: 332.6910\n",
            "Epoch 26/100\n",
            "2/2 [==============================] - 0s 12ms/step - loss: 20.8788 - mse: 646.8524\n",
            "Epoch 27/100\n",
            "2/2 [==============================] - 0s 10ms/step - loss: 26.0805 - mse: 1062.4348\n",
            "Epoch 28/100\n",
            "2/2 [==============================] - 0s 14ms/step - loss: 18.5632 - mse: 545.6497\n",
            "Epoch 29/100\n",
            "2/2 [==============================] - 0s 10ms/step - loss: 9.2501 - mse: 97.2615\n",
            "Epoch 30/100\n",
            "2/2 [==============================] - 0s 9ms/step - loss: 29.1819 - mse: 1524.3247\n",
            "Epoch 31/100\n",
            "2/2 [==============================] - 0s 10ms/step - loss: 52.8652 - mse: 4999.1558\n",
            "Epoch 32/100\n",
            "2/2 [==============================] - 0s 10ms/step - loss: 11.9689 - mse: 209.6355\n",
            "Epoch 33/100\n",
            "2/2 [==============================] - 0s 10ms/step - loss: 15.5845 - mse: 334.8841\n",
            "Epoch 34/100\n",
            "2/2 [==============================] - 0s 10ms/step - loss: 12.6598 - mse: 212.4167\n",
            "Epoch 35/100\n",
            "2/2 [==============================] - 0s 10ms/step - loss: 9.2276 - mse: 92.4452\n",
            "Epoch 36/100\n",
            "2/2 [==============================] - 0s 12ms/step - loss: 16.5806 - mse: 399.9131\n",
            "Epoch 37/100\n",
            "2/2 [==============================] - 0s 10ms/step - loss: 11.0615 - mse: 192.3996\n",
            "Epoch 38/100\n",
            "2/2 [==============================] - 0s 11ms/step - loss: 18.1884 - mse: 435.3011\n",
            "Epoch 39/100\n",
            "2/2 [==============================] - 0s 10ms/step - loss: 19.1241 - mse: 531.6547\n",
            "Epoch 40/100\n",
            "2/2 [==============================] - 0s 7ms/step - loss: 20.4726 - mse: 612.3411\n",
            "Epoch 41/100\n",
            "2/2 [==============================] - 0s 7ms/step - loss: 14.8672 - mse: 277.2125\n",
            "Epoch 42/100\n",
            "2/2 [==============================] - 0s 7ms/step - loss: 12.2487 - mse: 184.5081\n",
            "Epoch 43/100\n",
            "2/2 [==============================] - 0s 6ms/step - loss: 10.7180 - mse: 165.1741\n",
            "Epoch 44/100\n",
            "2/2 [==============================] - 0s 7ms/step - loss: 22.9140 - mse: 821.8615\n",
            "Epoch 45/100\n",
            "2/2 [==============================] - 0s 8ms/step - loss: 10.3625 - mse: 128.8011\n",
            "Epoch 46/100\n",
            "2/2 [==============================] - 0s 8ms/step - loss: 11.7463 - mse: 179.2818\n",
            "Epoch 47/100\n",
            "2/2 [==============================] - 0s 8ms/step - loss: 9.6678 - mse: 153.7176\n",
            "Epoch 48/100\n",
            "2/2 [==============================] - 0s 11ms/step - loss: 17.2816 - mse: 405.1545\n",
            "Epoch 49/100\n",
            "2/2 [==============================] - 0s 8ms/step - loss: 9.5472 - mse: 99.2634\n",
            "Epoch 50/100\n",
            "2/2 [==============================] - 0s 8ms/step - loss: 13.7679 - mse: 257.2791\n",
            "Epoch 51/100\n",
            "2/2 [==============================] - 0s 7ms/step - loss: 11.5798 - mse: 153.9838\n",
            "Epoch 52/100\n",
            "2/2 [==============================] - 0s 8ms/step - loss: 30.4046 - mse: 1595.9617\n",
            "Epoch 53/100\n",
            "2/2 [==============================] - 0s 7ms/step - loss: 14.2914 - mse: 299.5073\n",
            "Epoch 54/100\n",
            "2/2 [==============================] - 0s 8ms/step - loss: 23.6313 - mse: 841.1470\n",
            "Epoch 55/100\n",
            "2/2 [==============================] - 0s 8ms/step - loss: 24.5593 - mse: 910.6453\n",
            "Epoch 56/100\n",
            "2/2 [==============================] - 0s 6ms/step - loss: 11.3282 - mse: 171.6790\n",
            "Epoch 57/100\n",
            "2/2 [==============================] - 0s 7ms/step - loss: 13.3434 - mse: 224.5449\n",
            "Epoch 58/100\n",
            "2/2 [==============================] - 0s 6ms/step - loss: 9.9377 - mse: 109.2364\n",
            "Epoch 59/100\n",
            "2/2 [==============================] - 0s 8ms/step - loss: 13.8950 - mse: 274.6372\n",
            "Epoch 60/100\n",
            "2/2 [==============================] - 0s 7ms/step - loss: 9.9806 - mse: 118.6855\n",
            "Epoch 61/100\n",
            "2/2 [==============================] - 0s 8ms/step - loss: 14.9520 - mse: 307.2205\n",
            "Epoch 62/100\n",
            "2/2 [==============================] - 0s 8ms/step - loss: 11.9118 - mse: 195.8764\n",
            "Epoch 63/100\n",
            "2/2 [==============================] - 0s 8ms/step - loss: 10.2785 - mse: 134.3834\n",
            "Epoch 64/100\n",
            "2/2 [==============================] - 0s 9ms/step - loss: 23.8580 - mse: 836.4290\n",
            "Epoch 65/100\n",
            "2/2 [==============================] - 0s 10ms/step - loss: 10.4547 - mse: 129.8140\n",
            "Epoch 66/100\n",
            "2/2 [==============================] - 0s 9ms/step - loss: 20.9074 - mse: 642.7383\n",
            "Epoch 67/100\n",
            "2/2 [==============================] - 0s 7ms/step - loss: 10.4315 - mse: 126.0097\n",
            "Epoch 68/100\n",
            "2/2 [==============================] - 0s 7ms/step - loss: 14.1583 - mse: 301.7929\n",
            "Epoch 69/100\n",
            "2/2 [==============================] - 0s 8ms/step - loss: 10.5014 - mse: 125.6502\n",
            "Epoch 70/100\n",
            "2/2 [==============================] - 0s 7ms/step - loss: 12.5714 - mse: 200.4722\n",
            "Epoch 71/100\n",
            "2/2 [==============================] - 0s 7ms/step - loss: 13.0020 - mse: 225.4353\n",
            "Epoch 72/100\n",
            "2/2 [==============================] - 0s 7ms/step - loss: 19.3381 - mse: 530.6119\n",
            "Epoch 73/100\n",
            "2/2 [==============================] - 0s 7ms/step - loss: 11.1204 - mse: 193.3626\n",
            "Epoch 74/100\n",
            "2/2 [==============================] - 0s 7ms/step - loss: 21.4249 - mse: 716.3529\n",
            "Epoch 75/100\n",
            "2/2 [==============================] - 0s 7ms/step - loss: 9.4507 - mse: 151.5771\n",
            "Epoch 76/100\n",
            "2/2 [==============================] - 0s 8ms/step - loss: 12.2729 - mse: 182.6792\n",
            "Epoch 77/100\n",
            "2/2 [==============================] - 0s 7ms/step - loss: 16.3068 - mse: 409.5039\n",
            "Epoch 78/100\n",
            "2/2 [==============================] - 0s 7ms/step - loss: 9.0035 - mse: 91.8574\n",
            "Epoch 79/100\n",
            "2/2 [==============================] - 0s 7ms/step - loss: 23.5540 - mse: 830.6825\n",
            "Epoch 80/100\n",
            "2/2 [==============================] - 0s 9ms/step - loss: 26.2471 - mse: 1059.5143\n",
            "Epoch 81/100\n",
            "2/2 [==============================] - 0s 7ms/step - loss: 11.4303 - mse: 160.5764\n",
            "Epoch 82/100\n",
            "2/2 [==============================] - 0s 7ms/step - loss: 12.4453 - mse: 226.6224\n",
            "Epoch 83/100\n",
            "2/2 [==============================] - 0s 7ms/step - loss: 17.1118 - mse: 380.9766\n",
            "Epoch 84/100\n",
            "2/2 [==============================] - 0s 7ms/step - loss: 7.2554 - mse: 76.1270\n",
            "Epoch 85/100\n",
            "2/2 [==============================] - 0s 7ms/step - loss: 37.1570 - mse: 2219.3267\n",
            "Epoch 86/100\n",
            "2/2 [==============================] - 0s 7ms/step - loss: 21.1815 - mse: 644.9012\n",
            "Epoch 87/100\n",
            "2/2 [==============================] - 0s 7ms/step - loss: 11.0139 - mse: 147.9129\n",
            "Epoch 88/100\n",
            "2/2 [==============================] - 0s 7ms/step - loss: 25.0412 - mse: 892.2734\n",
            "Epoch 89/100\n",
            "2/2 [==============================] - 0s 7ms/step - loss: 9.3476 - mse: 136.9451\n",
            "Epoch 90/100\n",
            "2/2 [==============================] - 0s 7ms/step - loss: 17.3505 - mse: 431.9611\n",
            "Epoch 91/100\n",
            "2/2 [==============================] - 0s 6ms/step - loss: 10.7873 - mse: 160.4542\n",
            "Epoch 92/100\n",
            "2/2 [==============================] - 0s 7ms/step - loss: 19.0376 - mse: 499.2884\n",
            "Epoch 93/100\n",
            "2/2 [==============================] - 0s 7ms/step - loss: 8.3065 - mse: 102.5947\n",
            "Epoch 94/100\n",
            "2/2 [==============================] - 0s 7ms/step - loss: 11.5453 - mse: 177.7692\n",
            "Epoch 95/100\n",
            "2/2 [==============================] - 0s 7ms/step - loss: 26.0705 - mse: 1031.0065\n",
            "Epoch 96/100\n",
            "2/2 [==============================] - 0s 7ms/step - loss: 11.1727 - mse: 169.6701\n",
            "Epoch 97/100\n",
            "2/2 [==============================] - 0s 7ms/step - loss: 16.7526 - mse: 428.3275\n",
            "Epoch 98/100\n",
            "2/2 [==============================] - 0s 7ms/step - loss: 6.5857 - mse: 60.8078\n",
            "Epoch 99/100\n",
            "2/2 [==============================] - 0s 7ms/step - loss: 12.6085 - mse: 229.5739\n",
            "Epoch 100/100\n",
            "2/2 [==============================] - 0s 7ms/step - loss: 19.4311 - mse: 554.3755\n"
          ]
        },
        {
          "output_type": "execute_result",
          "data": {
            "text/plain": [
              "<keras.callbacks.History at 0x7f27cfa54670>"
            ]
          },
          "metadata": {},
          "execution_count": 47
        }
      ]
    },
    {
      "cell_type": "code",
      "source": [
        "# Make and plot predictions of model_2\n",
        "y_pred_2 = model_2.predict(X_test)\n",
        "plot_predictions(predictions=y_pred_2);"
      ],
      "metadata": {
        "colab": {
          "base_uri": "https://localhost:8080/",
          "height": 655
        },
        "id": "iEVACAn8CDos",
        "outputId": "b090527e-593d-4412-d063-3bf8d9e9b2cb"
      },
      "execution_count": 48,
      "outputs": [
        {
          "output_type": "stream",
          "name": "stderr",
          "text": [
            "WARNING:tensorflow:6 out of the last 6 calls to <function Model.make_predict_function.<locals>.predict_function at 0x7f27cf9f6310> triggered tf.function retracing. Tracing is expensive and the excessive number of tracings could be due to (1) creating @tf.function repeatedly in a loop, (2) passing tensors with different shapes, (3) passing Python objects instead of tensors. For (1), please define your @tf.function outside of the loop. For (2), @tf.function has reduce_retracing=True option that can avoid unnecessary retracing. For (3), please refer to https://www.tensorflow.org/guide/function#controlling_retracing and https://www.tensorflow.org/api_docs/python/tf/function for  more details.\n"
          ]
        },
        {
          "output_type": "stream",
          "name": "stdout",
          "text": [
            "1/1 [==============================] - 0s 57ms/step\n"
          ]
        },
        {
          "output_type": "display_data",
          "data": {
            "text/plain": [
              "<Figure size 1000x700 with 1 Axes>"
            ],
            "image/png": "[encoded data removed]"
          },
          "metadata": {}
        }
      ]
    },
    {
      "cell_type": "code",
      "source": [
        "# Calculate the evaluation metrics for model_2\n",
        "mae_2 = mae(y_test, y_pred_2)\n",
        "mse_2 = mse(y_test, y_pred_2)\n",
        "mae_2, mse_2"
      ],
      "metadata": {
        "colab": {
          "base_uri": "https://localhost:8080/"
        },
        "id": "LXI-w6eKDzNm",
        "outputId": "6e63322f-d0f1-4671-aa59-7bf2f2db95c1"
      },
      "execution_count": 49,
      "outputs": [
        {
          "output_type": "execute_result",
          "data": {
            "text/plain": [
              "(<tf.Tensor: shape=(), dtype=float32, numpy=13.138577>,\n",
              " <tf.Tensor: shape=(), dtype=float32, numpy=182.52953>)"
            ]
          },
          "metadata": {},
          "execution_count": 49
        }
      ]
    },
    {
      "cell_type": "markdown",
      "source": [
        "### Model 3\n",
        "Training two dense layers for 500 epochs"
      ],
      "metadata": {
        "id": "SynHKSo0Es6x"
      }
    },
    {
      "cell_type": "code",
      "source": [
        "# Set the random seed\n",
        "tf.random.set_seed(42)\n",
        "\n",
        "# 1. Create the model\n",
        "model_3 = tf.keras.Sequential([\n",
        "    tf.keras.layers.Dense(100),\n",
        "    tf.keras.layers.Dense(1)\n",
        "])\n",
        "\n",
        "# 2. Compile the model\n",
        "model_3.compile(loss=tf.keras.losses.mae,\n",
        "                optimizer=tf.keras.optimizers.SGD(),\n",
        "                metrics=[\"mse\"])\n",
        "\n",
        "# 3. Fit the model\n",
        "model_3.fit(tf.expand_dims(X_train, axis=-1), y_train, epochs=500, verbose=0)"
      ],
      "metadata": {
        "colab": {
          "base_uri": "https://localhost:8080/"
        },
        "id": "FQtuOxulEyIW",
        "outputId": "dc61c1eb-bd0e-478e-849b-2c812108c529"
      },
      "execution_count": 50,
      "outputs": [
        {
          "output_type": "execute_result",
          "data": {
            "text/plain": [
              "<keras.callbacks.History at 0x7f27cf8c1c10>"
            ]
          },
          "metadata": {},
          "execution_count": 50
        }
      ]
    },
    {
      "cell_type": "code",
      "source": [
        "# Make predictions and plot \n",
        "y_pred_3 = model_3.predict(X_test)\n",
        "plot_predictions(predictions=y_pred_3)"
      ],
      "metadata": {
        "colab": {
          "base_uri": "https://localhost:8080/",
          "height": 617
        },
        "id": "-KgAX20KGbPP",
        "outputId": "e474b9fa-cade-4ecd-f902-682de6d0b836"
      },
      "execution_count": 51,
      "outputs": [
        {
          "output_type": "stream",
          "name": "stdout",
          "text": [
            "1/1 [==============================] - 0s 77ms/step\n"
          ]
        },
        {
          "output_type": "display_data",
          "data": {
            "text/plain": [
              "<Figure size 1000x700 with 1 Axes>"
            ],
            "image/png": "[encoded data removed]"
          },
          "metadata": {}
        }
      ]
    },
    {
      "cell_type": "code",
      "source": [
        "# Calculate the metrics\n",
        "mae_3 = mae(y_test, y_pred_3)\n",
        "mse_3 = mse(y_test, y_pred_3)\n",
        "mae_3, mse_3"
      ],
      "metadata": {
        "colab": {
          "base_uri": "https://localhost:8080/"
        },
        "id": "RqLnI_75GyAU",
        "outputId": "e158300d-2c1b-4042-c1f9-fc5ca1f5b367"
      },
      "execution_count": 52,
      "outputs": [
        {
          "output_type": "execute_result",
          "data": {
            "text/plain": [
              "(<tf.Tensor: shape=(), dtype=float32, numpy=67.616844>,\n",
              " <tf.Tensor: shape=(), dtype=float32, numpy=4656.096>)"
            ]
          },
          "metadata": {},
          "execution_count": 52
        }
      ]
    },
    {
      "cell_type": "markdown",
      "source": [
        "## Comparing the results"
      ],
      "metadata": {
        "id": "Ee7BSlHlHZ_C"
      }
    },
    {
      "cell_type": "code",
      "source": [
        "# Let's compare our model's result using a pandas DataFrame\n",
        "import pandas as pd\n",
        "\n",
        "model_results = [[\"model_1\", mae_1.numpy(), mse_1.numpy()],\n",
        "                 [\"model_2\", mae_2.numpy(), mse_2.numpy()],\n",
        "                 [\"model_3\", mae_3.numpy(), mse_3.numpy()]]\n",
        "\n",
        "all_results = pd.DataFrame(model_results, columns=[\"model\", \"mae\", \"mse\"])\n",
        "all_results"
      ],
      "metadata": {
        "colab": {
          "base_uri": "https://localhost:8080/",
          "height": 143
        },
        "id": "lDSNipS0KGin",
        "outputId": "14b8d8fb-1dd4-4e27-f2d8-2f9ce3cb737e"
      },
      "execution_count": 53,
      "outputs": [
        {
          "output_type": "execute_result",
          "data": {
            "text/plain": [
              "     model        mae          mse\n",
              "0  model_1  30.586924   945.951294\n",
              "1  model_2  13.138577   182.529526\n",
              "2  model_3  67.616844  4656.096191"
            ],
            "text/html": [
              "\n",
              "  <div id=\"df-a0cea5e5-76b0-4858-aa85-3fa59adfa205\">\n",
              "    <div class=\"colab-df-container\">\n",
              "      <div>\n",
              "<style scoped>\n",
              "    .dataframe tbody tr th:only-of-type {\n",
              "        vertical-align: middle;\n",
              "    }\n",
              "\n",
              "    .dataframe tbody tr th {\n",
              "        vertical-align: top;\n",
              "    }\n",
              "\n",
              "    .dataframe thead th {\n",
              "        text-align: right;\n",
              "    }\n",
              "</style>\n",
              "<table border=\"1\" class=\"dataframe\">\n",
              "  <thead>\n",
              "    <tr style=\"text-align: right;\">\n",
              "      <th></th>\n",
              "      <th>model</th>\n",
              "      <th>mae</th>\n",
              "      <th>mse</th>\n",
              "    </tr>\n",
              "  </thead>\n",
              "  <tbody>\n",
              "    <tr>\n",
              "      <th>0</th>\n",
              "      <td>model_1</td>\n",
              "      <td>30.586924</td>\n",
              "      <td>945.951294</td>\n",
              "    </tr>\n",
              "    <tr>\n",
              "      <th>1</th>\n",
              "      <td>model_2</td>\n",
              "      <td>13.138577</td>\n",
              "      <td>182.529526</td>\n",
              "    </tr>\n",
              "    <tr>\n",
              "      <th>2</th>\n",
              "      <td>model_3</td>\n",
              "      <td>67.616844</td>\n",
              "      <td>4656.096191</td>\n",
              "    </tr>\n",
              "  </tbody>\n",
              "</table>\n",
              "</div>\n",
              "      <button class=\"colab-df-convert\" onclick=\"convertToInteractive('df-a0cea5e5-76b0-4858-aa85-3fa59adfa205')\"\n",
              "              title=\"Convert this dataframe to an interactive table.\"\n",
              "              style=\"display:none;\">\n",
              "        \n",
              "  <svg xmlns=\"http://www.w3.org/2000/svg\" height=\"24px\"viewBox=\"0 0 24 24\"\n",
              "       width=\"24px\">\n",
              "    <path d=\"M0 0h24v24H0V0z\" fill=\"none\"/>\n",
              "    <path d=\"M18.56 5.44l.94 2.06.94-2.06 2.06-.94-2.06-.94-.94-2.06-.94 2.06-2.06.94zm-11 1L8.5 8.5l.94-2.06 2.06-.94-2.06-.94L8.5 2.5l-.94 2.06-2.06.94zm10 10l.94 2.06.94-2.06 2.06-.94-2.06-.94-.94-2.06-.94 2.06-2.06.94z\"/><path d=\"M17.41 7.96l-1.37-1.37c-.4-.4-.92-.59-1.43-.59-.52 0-1.04.2-1.43.59L10.3 9.45l-7.72 7.72c-.78.78-.78 2.05 0 2.83L4 21.41c.39.39.9.59 1.41.59.51 0 1.02-.2 1.41-.59l7.78-7.78 2.81-2.81c.8-.78.8-2.07 0-2.86zM5.41 20L4 18.59l7.72-7.72 1.47 1.35L5.41 20z\"/>\n",
              "  </svg>\n",
              "      </button>\n",
              "      \n",
              "  <style>\n",
              "    .colab-df-container {\n",
              "      display:flex;\n",
              "      flex-wrap:wrap;\n",
              "      gap: 12px;\n",
              "    }\n",
              "\n",
              "    .colab-df-convert {\n",
              "      background-color: #E8F0FE;\n",
              "      border: none;\n",
              "      border-radius: 50%;\n",
              "      cursor: pointer;\n",
              "      display: none;\n",
              "      fill: #1967D2;\n",
              "      height: 32px;\n",
              "      padding: 0 0 0 0;\n",
              "      width: 32px;\n",
              "    }\n",
              "\n",
              "    .colab-df-convert:hover {\n",
              "      background-color: #E2EBFA;\n",
              "      box-shadow: 0px 1px 2px rgba(60, 64, 67, 0.3), 0px 1px 3px 1px rgba(60, 64, 67, 0.15);\n",
              "      fill: #174EA6;\n",
              "    }\n",
              "\n",
              "    [theme=dark] .colab-df-convert {\n",
              "      background-color: #3B4455;\n",
              "      fill: #D2E3FC;\n",
              "    }\n",
              "\n",
              "    [theme=dark] .colab-df-convert:hover {\n",
              "      background-color: #434B5C;\n",
              "      box-shadow: 0px 1px 3px 1px rgba(0, 0, 0, 0.15);\n",
              "      filter: drop-shadow(0px 1px 2px rgba(0, 0, 0, 0.3));\n",
              "      fill: #FFFFFF;\n",
              "    }\n",
              "  </style>\n",
              "\n",
              "      <script>\n",
              "        const buttonEl =\n",
              "          document.querySelector('#df-a0cea5e5-76b0-4858-aa85-3fa59adfa205 button.colab-df-convert');\n",
              "        buttonEl.style.display =\n",
              "          google.colab.kernel.accessAllowed ? 'block' : 'none';\n",
              "\n",
              "        async function convertToInteractive(key) {\n",
              "          const element = document.querySelector('#df-a0cea5e5-76b0-4858-aa85-3fa59adfa205');\n",
              "          const dataTable =\n",
              "            await google.colab.kernel.invokeFunction('convertToInteractive',\n",
              "                                                     [key], {});\n",
              "          if (!dataTable) return;\n",
              "\n",
              "          const docLinkHtml = 'Like what you see? Visit the ' +\n",
              "            '<a target=\"_blank\" href=https://colab.research.google.com/notebooks/data_table.ipynb>data table notebook</a>'\n",
              "            + ' to learn more about interactive tables.';\n",
              "          element.innerHTML = '';\n",
              "          dataTable['output_type'] = 'display_data';\n",
              "          await google.colab.output.renderOutput(dataTable, element);\n",
              "          const docLink = document.createElement('div');\n",
              "          docLink.innerHTML = docLinkHtml;\n",
              "          element.appendChild(docLink);\n",
              "        }\n",
              "      </script>\n",
              "    </div>\n",
              "  </div>\n",
              "  "
            ]
          },
          "metadata": {},
          "execution_count": 53
        }
      ]
    },
    {
      "cell_type": "code",
      "source": [
        "model_1.summary()"
      ],
      "metadata": {
        "colab": {
          "base_uri": "https://localhost:8080/"
        },
        "id": "E2xmzvQILOcr",
        "outputId": "1452f357-85b0-4265-878a-3702f7691b0a"
      },
      "execution_count": 54,
      "outputs": [
        {
          "output_type": "stream",
          "name": "stdout",
          "text": [
            "Model: \"sequential_4\"\n",
            "_________________________________________________________________\n",
            " Layer (type)                Output Shape              Param #   \n",
            "=================================================================\n",
            " dense_5 (Dense)             (None, 1)                 2         \n",
            "                                                                 \n",
            "=================================================================\n",
            "Total params: 2\n",
            "Trainable params: 2\n",
            "Non-trainable params: 0\n",
            "_________________________________________________________________\n"
          ]
        }
      ]
    },
    {
      "cell_type": "markdown",
      "source": [
        "## Saving our models\n",
        "\n",
        "There are two main formats we can save our model's too:\n",
        "\n",
        "1. The SavedModel format\n",
        "2. The HDF5 format"
      ],
      "metadata": {
        "id": "10HNBx5tLSGo"
      }
    },
    {
      "cell_type": "code",
      "source": [
        "# Let's say we want to save our model_1 using SavedModel format\n",
        "model_1.save(\"best_model_SavedModel_format\")"
      ],
      "metadata": {
        "colab": {
          "base_uri": "https://localhost:8080/"
        },
        "id": "ghPbWLkUMhYR",
        "outputId": "358c882a-f30b-4f40-b792-ddb346ce1695"
      },
      "execution_count": 55,
      "outputs": [
        {
          "output_type": "stream",
          "name": "stderr",
          "text": [
            "WARNING:absl:Found untraced functions such as _update_step_xla while saving (showing 1 of 1). These functions will not be directly callable after loading.\n"
          ]
        }
      ]
    },
    {
      "cell_type": "code",
      "source": [
        "# Saving the model in HDF5 (Hierarchical Data Format) format\n",
        "model_1.save(\"best_model_HDF5_format.h5\")"
      ],
      "metadata": {
        "id": "qjVAxx33UR7H"
      },
      "execution_count": 56,
      "outputs": []
    },
    {
      "cell_type": "markdown",
      "source": [
        "## Loading out saved models"
      ],
      "metadata": {
        "id": "u7EaKPAkU5ku"
      }
    },
    {
      "cell_type": "code",
      "source": [
        "# Load in the SavedModel foramt model\n",
        "loaded_SavedModel_format = tf.keras.models.load_model(\"best_model_SavedModel_format\")\n",
        "loaded_SavedModel_format.summary()"
      ],
      "metadata": {
        "colab": {
          "base_uri": "https://localhost:8080/"
        },
        "id": "JjJcXRAJVBXX",
        "outputId": "96be8fd1-ca67-4d10-9a3f-5b56d9e665d8"
      },
      "execution_count": 57,
      "outputs": [
        {
          "output_type": "stream",
          "name": "stdout",
          "text": [
            "Model: \"sequential_4\"\n",
            "_________________________________________________________________\n",
            " Layer (type)                Output Shape              Param #   \n",
            "=================================================================\n",
            " dense_5 (Dense)             (None, 1)                 2         \n",
            "                                                                 \n",
            "=================================================================\n",
            "Total params: 2\n",
            "Trainable params: 2\n",
            "Non-trainable params: 0\n",
            "_________________________________________________________________\n"
          ]
        }
      ]
    },
    {
      "cell_type": "code",
      "source": [
        "model_1.summary()"
      ],
      "metadata": {
        "colab": {
          "base_uri": "https://localhost:8080/"
        },
        "id": "34-cIldJawE1",
        "outputId": "167694d8-380a-49b9-cbf3-70eb19002b30"
      },
      "execution_count": 58,
      "outputs": [
        {
          "output_type": "stream",
          "name": "stdout",
          "text": [
            "Model: \"sequential_4\"\n",
            "_________________________________________________________________\n",
            " Layer (type)                Output Shape              Param #   \n",
            "=================================================================\n",
            " dense_5 (Dense)             (None, 1)                 2         \n",
            "                                                                 \n",
            "=================================================================\n",
            "Total params: 2\n",
            "Trainable params: 2\n",
            "Non-trainable params: 0\n",
            "_________________________________________________________________\n"
          ]
        }
      ]
    },
    {
      "cell_type": "code",
      "source": [
        "# Compare model_1 predictions with SavedModel format model predictions\n",
        "model_1_preds = model_1.predict(X_test)\n",
        "loaded_SavedModel_format_preds = loaded_SavedModel_format.predict(X_test)\n",
        "model_1_preds == loaded_SavedModel_format_preds"
      ],
      "metadata": {
        "id": "3D9Cff1lazhR",
        "colab": {
          "base_uri": "https://localhost:8080/"
        },
        "outputId": "debf6df3-0ae6-417f-bb5b-4ce567bf7dc9"
      },
      "execution_count": 64,
      "outputs": [
        {
          "output_type": "stream",
          "name": "stdout",
          "text": [
            "1/1 [==============================] - 0s 48ms/step\n",
            "1/1 [==============================] - 0s 36ms/step\n"
          ]
        },
        {
          "output_type": "execute_result",
          "data": {
            "text/plain": [
              "array([[ True],\n",
              "       [ True],\n",
              "       [ True],\n",
              "       [ True],\n",
              "       [ True],\n",
              "       [ True],\n",
              "       [ True],\n",
              "       [ True],\n",
              "       [ True],\n",
              "       [ True]])"
            ]
          },
          "metadata": {},
          "execution_count": 64
        }
      ]
    },
    {
      "cell_type": "code",
      "source": [
        "model_1_preds, loaded_SavedModel_format_preds"
      ],
      "metadata": {
        "id": "HuxAW7RpLPqH",
        "colab": {
          "base_uri": "https://localhost:8080/"
        },
        "outputId": "79b6e846-2c66-4da2-d39f-f1fa344bce59"
      },
      "execution_count": 60,
      "outputs": [
        {
          "output_type": "execute_result",
          "data": {
            "text/plain": [
              "(array([[44.463474],\n",
              "        [47.341164],\n",
              "        [50.218853],\n",
              "        [53.096542],\n",
              "        [55.97423 ],\n",
              "        [58.85192 ],\n",
              "        [61.729614],\n",
              "        [64.6073  ],\n",
              "        [67.48499 ],\n",
              "        [70.362686]], dtype=float32),\n",
              " array([[44.463474],\n",
              "        [47.341164],\n",
              "        [50.218853],\n",
              "        [53.096542],\n",
              "        [55.97423 ],\n",
              "        [58.85192 ],\n",
              "        [61.729614],\n",
              "        [64.6073  ],\n",
              "        [67.48499 ],\n",
              "        [70.362686]], dtype=float32))"
            ]
          },
          "metadata": {},
          "execution_count": 60
        }
      ]
    },
    {
      "cell_type": "code",
      "source": [
        "mae(y_true=y_test, y_pred=model_1_preds) == mae(y_true=y_test, y_pred=loaded_SavedModel_format_preds)"
      ],
      "metadata": {
        "colab": {
          "base_uri": "https://localhost:8080/"
        },
        "id": "8Z43j-jbxnoO",
        "outputId": "373da1ae-62f9-4daa-b4a4-69805301735a"
      },
      "execution_count": 63,
      "outputs": [
        {
          "output_type": "execute_result",
          "data": {
            "text/plain": [
              "<tf.Tensor: shape=(), dtype=bool, numpy=True>"
            ]
          },
          "metadata": {},
          "execution_count": 63
        }
      ]
    },
    {
      "cell_type": "code",
      "source": [
        "# Loading a h5 model\n",
        "loaded_h5_model = tf.keras.models.load_model(\"/content/best_model_HDF5_format.h5\")"
      ],
      "metadata": {
        "id": "HD1eLmri1fVM"
      },
      "execution_count": 65,
      "outputs": []
    },
    {
      "cell_type": "code",
      "source": [
        "# Save a model on google drive\n",
        "# !cp path_of_model path_of_the_drive_folder"
      ],
      "metadata": {
        "id": "hg5vDC5G2YIr"
      },
      "execution_count": null,
      "outputs": []
    },
    {
      "cell_type": "markdown",
      "source": [
        "## A Larger Example"
      ],
      "metadata": {
        "id": "1TkKeNka822c"
      }
    },
    {
      "cell_type": "code",
      "source": [
        "# import the required libraries\n",
        "import tensorflow as tf\n",
        "import pandas as pd\n",
        "import matplotlib.pyplot as plt"
      ],
      "metadata": {
        "id": "7wFscsQg83Ay"
      },
      "execution_count": 1,
      "outputs": []
    },
    {
      "cell_type": "code",
      "source": [
        "# Read in the insurane dataset\n",
        "insurance = pd.read_csv(\"https://raw.githubusercontent.com/stedy/Machine-Learning-with-R-datasets/master/insurance.csv\")\n",
        "insurance.head(5)"
      ],
      "metadata": {
        "colab": {
          "base_uri": "https://localhost:8080/",
          "height": 206
        },
        "id": "yPzB17mH83Db",
        "outputId": "177a1af1-d40c-4310-ae87-7471fcc03f57"
      },
      "execution_count": 2,
      "outputs": [
        {
          "output_type": "execute_result",
          "data": {
            "text/plain": [
              "   age     sex     bmi  children smoker     region      charges\n",
              "0   19  female  27.900         0    yes  southwest  16884.92400\n",
              "1   18    male  33.770         1     no  southeast   1725.55230\n",
              "2   28    male  33.000         3     no  southeast   4449.46200\n",
              "3   33    male  22.705         0     no  northwest  21984.47061\n",
              "4   32    male  28.880         0     no  northwest   3866.85520"
            ],
            "text/html": [
              "\n",
              "  <div id=\"df-479bad5b-92e3-43bf-9569-fa5d64ae169e\">\n",
              "    <div class=\"colab-df-container\">\n",
              "      <div>\n",
              "<style scoped>\n",
              "    .dataframe tbody tr th:only-of-type {\n",
              "        vertical-align: middle;\n",
              "    }\n",
              "\n",
              "    .dataframe tbody tr th {\n",
              "        vertical-align: top;\n",
              "    }\n",
              "\n",
              "    .dataframe thead th {\n",
              "        text-align: right;\n",
              "    }\n",
              "</style>\n",
              "<table border=\"1\" class=\"dataframe\">\n",
              "  <thead>\n",
              "    <tr style=\"text-align: right;\">\n",
              "      <th></th>\n",
              "      <th>age</th>\n",
              "      <th>sex</th>\n",
              "      <th>bmi</th>\n",
              "      <th>children</th>\n",
              "      <th>smoker</th>\n",
              "      <th>region</th>\n",
              "      <th>charges</th>\n",
              "    </tr>\n",
              "  </thead>\n",
              "  <tbody>\n",
              "    <tr>\n",
              "      <th>0</th>\n",
              "      <td>19</td>\n",
              "      <td>female</td>\n",
              "      <td>27.900</td>\n",
              "      <td>0</td>\n",
              "      <td>yes</td>\n",
              "      <td>southwest</td>\n",
              "      <td>16884.92400</td>\n",
              "    </tr>\n",
              "    <tr>\n",
              "      <th>1</th>\n",
              "      <td>18</td>\n",
              "      <td>male</td>\n",
              "      <td>33.770</td>\n",
              "      <td>1</td>\n",
              "      <td>no</td>\n",
              "      <td>southeast</td>\n",
              "      <td>1725.55230</td>\n",
              "    </tr>\n",
              "    <tr>\n",
              "      <th>2</th>\n",
              "      <td>28</td>\n",
              "      <td>male</td>\n",
              "      <td>33.000</td>\n",
              "      <td>3</td>\n",
              "      <td>no</td>\n",
              "      <td>southeast</td>\n",
              "      <td>4449.46200</td>\n",
              "    </tr>\n",
              "    <tr>\n",
              "      <th>3</th>\n",
              "      <td>33</td>\n",
              "      <td>male</td>\n",
              "      <td>22.705</td>\n",
              "      <td>0</td>\n",
              "      <td>no</td>\n",
              "      <td>northwest</td>\n",
              "      <td>21984.47061</td>\n",
              "    </tr>\n",
              "    <tr>\n",
              "      <th>4</th>\n",
              "      <td>32</td>\n",
              "      <td>male</td>\n",
              "      <td>28.880</td>\n",
              "      <td>0</td>\n",
              "      <td>no</td>\n",
              "      <td>northwest</td>\n",
              "      <td>3866.85520</td>\n",
              "    </tr>\n",
              "  </tbody>\n",
              "</table>\n",
              "</div>\n",
              "      <button class=\"colab-df-convert\" onclick=\"convertToInteractive('df-479bad5b-92e3-43bf-9569-fa5d64ae169e')\"\n",
              "              title=\"Convert this dataframe to an interactive table.\"\n",
              "              style=\"display:none;\">\n",
              "        \n",
              "  <svg xmlns=\"http://www.w3.org/2000/svg\" height=\"24px\"viewBox=\"0 0 24 24\"\n",
              "       width=\"24px\">\n",
              "    <path d=\"M0 0h24v24H0V0z\" fill=\"none\"/>\n",
              "    <path d=\"M18.56 5.44l.94 2.06.94-2.06 2.06-.94-2.06-.94-.94-2.06-.94 2.06-2.06.94zm-11 1L8.5 8.5l.94-2.06 2.06-.94-2.06-.94L8.5 2.5l-.94 2.06-2.06.94zm10 10l.94 2.06.94-2.06 2.06-.94-2.06-.94-.94-2.06-.94 2.06-2.06.94z\"/><path d=\"M17.41 7.96l-1.37-1.37c-.4-.4-.92-.59-1.43-.59-.52 0-1.04.2-1.43.59L10.3 9.45l-7.72 7.72c-.78.78-.78 2.05 0 2.83L4 21.41c.39.39.9.59 1.41.59.51 0 1.02-.2 1.41-.59l7.78-7.78 2.81-2.81c.8-.78.8-2.07 0-2.86zM5.41 20L4 18.59l7.72-7.72 1.47 1.35L5.41 20z\"/>\n",
              "  </svg>\n",
              "      </button>\n",
              "      \n",
              "  <style>\n",
              "    .colab-df-container {\n",
              "      display:flex;\n",
              "      flex-wrap:wrap;\n",
              "      gap: 12px;\n",
              "    }\n",
              "\n",
              "    .colab-df-convert {\n",
              "      background-color: #E8F0FE;\n",
              "      border: none;\n",
              "      border-radius: 50%;\n",
              "      cursor: pointer;\n",
              "      display: none;\n",
              "      fill: #1967D2;\n",
              "      height: 32px;\n",
              "      padding: 0 0 0 0;\n",
              "      width: 32px;\n",
              "    }\n",
              "\n",
              "    .colab-df-convert:hover {\n",
              "      background-color: #E2EBFA;\n",
              "      box-shadow: 0px 1px 2px rgba(60, 64, 67, 0.3), 0px 1px 3px 1px rgba(60, 64, 67, 0.15);\n",
              "      fill: #174EA6;\n",
              "    }\n",
              "\n",
              "    [theme=dark] .colab-df-convert {\n",
              "      background-color: #3B4455;\n",
              "      fill: #D2E3FC;\n",
              "    }\n",
              "\n",
              "    [theme=dark] .colab-df-convert:hover {\n",
              "      background-color: #434B5C;\n",
              "      box-shadow: 0px 1px 3px 1px rgba(0, 0, 0, 0.15);\n",
              "      filter: drop-shadow(0px 1px 2px rgba(0, 0, 0, 0.3));\n",
              "      fill: #FFFFFF;\n",
              "    }\n",
              "  </style>\n",
              "\n",
              "      <script>\n",
              "        const buttonEl =\n",
              "          document.querySelector('#df-479bad5b-92e3-43bf-9569-fa5d64ae169e button.colab-df-convert');\n",
              "        buttonEl.style.display =\n",
              "          google.colab.kernel.accessAllowed ? 'block' : 'none';\n",
              "\n",
              "        async function convertToInteractive(key) {\n",
              "          const element = document.querySelector('#df-479bad5b-92e3-43bf-9569-fa5d64ae169e');\n",
              "          const dataTable =\n",
              "            await google.colab.kernel.invokeFunction('convertToInteractive',\n",
              "                                                     [key], {});\n",
              "          if (!dataTable) return;\n",
              "\n",
              "          const docLinkHtml = 'Like what you see? Visit the ' +\n",
              "            '<a target=\"_blank\" href=https://colab.research.google.com/notebooks/data_table.ipynb>data table notebook</a>'\n",
              "            + ' to learn more about interactive tables.';\n",
              "          element.innerHTML = '';\n",
              "          dataTable['output_type'] = 'display_data';\n",
              "          await google.colab.output.renderOutput(dataTable, element);\n",
              "          const docLink = document.createElement('div');\n",
              "          docLink.innerHTML = docLinkHtml;\n",
              "          element.appendChild(docLink);\n",
              "        }\n",
              "      </script>\n",
              "    </div>\n",
              "  </div>\n",
              "  "
            ]
          },
          "metadata": {},
          "execution_count": 2
        }
      ]
    },
    {
      "cell_type": "code",
      "source": [
        "# One-Hot encoding\n",
        "ins_one_hot = pd.get_dummies(insurance)"
      ],
      "metadata": {
        "id": "jVEH50-K83GJ"
      },
      "execution_count": 3,
      "outputs": []
    },
    {
      "cell_type": "code",
      "source": [
        "ins_one_hot.head(5)"
      ],
      "metadata": {
        "colab": {
          "base_uri": "https://localhost:8080/",
          "height": 206
        },
        "id": "KUGqn1K183Ir",
        "outputId": "e0242c3e-c269-4329-b2aa-af0da7b8da15"
      },
      "execution_count": 4,
      "outputs": [
        {
          "output_type": "execute_result",
          "data": {
            "text/plain": [
              "   age     bmi  children      charges  sex_female  sex_male  smoker_no  \\\n",
              "0   19  27.900         0  16884.92400           1         0          0   \n",
              "1   18  33.770         1   1725.55230           0         1          1   \n",
              "2   28  33.000         3   4449.46200           0         1          1   \n",
              "3   33  22.705         0  21984.47061           0         1          1   \n",
              "4   32  28.880         0   3866.85520           0         1          1   \n",
              "\n",
              "   smoker_yes  region_northeast  region_northwest  region_southeast  \\\n",
              "0           1                 0                 0                 0   \n",
              "1           0                 0                 0                 1   \n",
              "2           0                 0                 0                 1   \n",
              "3           0                 0                 1                 0   \n",
              "4           0                 0                 1                 0   \n",
              "\n",
              "   region_southwest  \n",
              "0                 1  \n",
              "1                 0  \n",
              "2                 0  \n",
              "3                 0  \n",
              "4                 0  "
            ],
            "text/html": [
              "\n",
              "  <div id=\"df-e98cd0b0-7f58-4ca1-94d1-3ff13fa91d60\">\n",
              "    <div class=\"colab-df-container\">\n",
              "      <div>\n",
              "<style scoped>\n",
              "    .dataframe tbody tr th:only-of-type {\n",
              "        vertical-align: middle;\n",
              "    }\n",
              "\n",
              "    .dataframe tbody tr th {\n",
              "        vertical-align: top;\n",
              "    }\n",
              "\n",
              "    .dataframe thead th {\n",
              "        text-align: right;\n",
              "    }\n",
              "</style>\n",
              "<table border=\"1\" class=\"dataframe\">\n",
              "  <thead>\n",
              "    <tr style=\"text-align: right;\">\n",
              "      <th></th>\n",
              "      <th>age</th>\n",
              "      <th>bmi</th>\n",
              "      <th>children</th>\n",
              "      <th>charges</th>\n",
              "      <th>sex_female</th>\n",
              "      <th>sex_male</th>\n",
              "      <th>smoker_no</th>\n",
              "      <th>smoker_yes</th>\n",
              "      <th>region_northeast</th>\n",
              "      <th>region_northwest</th>\n",
              "      <th>region_southeast</th>\n",
              "      <th>region_southwest</th>\n",
              "    </tr>\n",
              "  </thead>\n",
              "  <tbody>\n",
              "    <tr>\n",
              "      <th>0</th>\n",
              "      <td>19</td>\n",
              "      <td>27.900</td>\n",
              "      <td>0</td>\n",
              "      <td>16884.92400</td>\n",
              "      <td>1</td>\n",
              "      <td>0</td>\n",
              "      <td>0</td>\n",
              "      <td>1</td>\n",
              "      <td>0</td>\n",
              "      <td>0</td>\n",
              "      <td>0</td>\n",
              "      <td>1</td>\n",
              "    </tr>\n",
              "    <tr>\n",
              "      <th>1</th>\n",
              "      <td>18</td>\n",
              "      <td>33.770</td>\n",
              "      <td>1</td>\n",
              "      <td>1725.55230</td>\n",
              "      <td>0</td>\n",
              "      <td>1</td>\n",
              "      <td>1</td>\n",
              "      <td>0</td>\n",
              "      <td>0</td>\n",
              "      <td>0</td>\n",
              "      <td>1</td>\n",
              "      <td>0</td>\n",
              "    </tr>\n",
              "    <tr>\n",
              "      <th>2</th>\n",
              "      <td>28</td>\n",
              "      <td>33.000</td>\n",
              "      <td>3</td>\n",
              "      <td>4449.46200</td>\n",
              "      <td>0</td>\n",
              "      <td>1</td>\n",
              "      <td>1</td>\n",
              "      <td>0</td>\n",
              "      <td>0</td>\n",
              "      <td>0</td>\n",
              "      <td>1</td>\n",
              "      <td>0</td>\n",
              "    </tr>\n",
              "    <tr>\n",
              "      <th>3</th>\n",
              "      <td>33</td>\n",
              "      <td>22.705</td>\n",
              "      <td>0</td>\n",
              "      <td>21984.47061</td>\n",
              "      <td>0</td>\n",
              "      <td>1</td>\n",
              "      <td>1</td>\n",
              "      <td>0</td>\n",
              "      <td>0</td>\n",
              "      <td>1</td>\n",
              "      <td>0</td>\n",
              "      <td>0</td>\n",
              "    </tr>\n",
              "    <tr>\n",
              "      <th>4</th>\n",
              "      <td>32</td>\n",
              "      <td>28.880</td>\n",
              "      <td>0</td>\n",
              "      <td>3866.85520</td>\n",
              "      <td>0</td>\n",
              "      <td>1</td>\n",
              "      <td>1</td>\n",
              "      <td>0</td>\n",
              "      <td>0</td>\n",
              "      <td>1</td>\n",
              "      <td>0</td>\n",
              "      <td>0</td>\n",
              "    </tr>\n",
              "  </tbody>\n",
              "</table>\n",
              "</div>\n",
              "      <button class=\"colab-df-convert\" onclick=\"convertToInteractive('df-e98cd0b0-7f58-4ca1-94d1-3ff13fa91d60')\"\n",
              "              title=\"Convert this dataframe to an interactive table.\"\n",
              "              style=\"display:none;\">\n",
              "        \n",
              "  <svg xmlns=\"http://www.w3.org/2000/svg\" height=\"24px\"viewBox=\"0 0 24 24\"\n",
              "       width=\"24px\">\n",
              "    <path d=\"M0 0h24v24H0V0z\" fill=\"none\"/>\n",
              "    <path d=\"M18.56 5.44l.94 2.06.94-2.06 2.06-.94-2.06-.94-.94-2.06-.94 2.06-2.06.94zm-11 1L8.5 8.5l.94-2.06 2.06-.94-2.06-.94L8.5 2.5l-.94 2.06-2.06.94zm10 10l.94 2.06.94-2.06 2.06-.94-2.06-.94-.94-2.06-.94 2.06-2.06.94z\"/><path d=\"M17.41 7.96l-1.37-1.37c-.4-.4-.92-.59-1.43-.59-.52 0-1.04.2-1.43.59L10.3 9.45l-7.72 7.72c-.78.78-.78 2.05 0 2.83L4 21.41c.39.39.9.59 1.41.59.51 0 1.02-.2 1.41-.59l7.78-7.78 2.81-2.81c.8-.78.8-2.07 0-2.86zM5.41 20L4 18.59l7.72-7.72 1.47 1.35L5.41 20z\"/>\n",
              "  </svg>\n",
              "      </button>\n",
              "      \n",
              "  <style>\n",
              "    .colab-df-container {\n",
              "      display:flex;\n",
              "      flex-wrap:wrap;\n",
              "      gap: 12px;\n",
              "    }\n",
              "\n",
              "    .colab-df-convert {\n",
              "      background-color: #E8F0FE;\n",
              "      border: none;\n",
              "      border-radius: 50%;\n",
              "      cursor: pointer;\n",
              "      display: none;\n",
              "      fill: #1967D2;\n",
              "      height: 32px;\n",
              "      padding: 0 0 0 0;\n",
              "      width: 32px;\n",
              "    }\n",
              "\n",
              "    .colab-df-convert:hover {\n",
              "      background-color: #E2EBFA;\n",
              "      box-shadow: 0px 1px 2px rgba(60, 64, 67, 0.3), 0px 1px 3px 1px rgba(60, 64, 67, 0.15);\n",
              "      fill: #174EA6;\n",
              "    }\n",
              "\n",
              "    [theme=dark] .colab-df-convert {\n",
              "      background-color: #3B4455;\n",
              "      fill: #D2E3FC;\n",
              "    }\n",
              "\n",
              "    [theme=dark] .colab-df-convert:hover {\n",
              "      background-color: #434B5C;\n",
              "      box-shadow: 0px 1px 3px 1px rgba(0, 0, 0, 0.15);\n",
              "      filter: drop-shadow(0px 1px 2px rgba(0, 0, 0, 0.3));\n",
              "      fill: #FFFFFF;\n",
              "    }\n",
              "  </style>\n",
              "\n",
              "      <script>\n",
              "        const buttonEl =\n",
              "          document.querySelector('#df-e98cd0b0-7f58-4ca1-94d1-3ff13fa91d60 button.colab-df-convert');\n",
              "        buttonEl.style.display =\n",
              "          google.colab.kernel.accessAllowed ? 'block' : 'none';\n",
              "\n",
              "        async function convertToInteractive(key) {\n",
              "          const element = document.querySelector('#df-e98cd0b0-7f58-4ca1-94d1-3ff13fa91d60');\n",
              "          const dataTable =\n",
              "            await google.colab.kernel.invokeFunction('convertToInteractive',\n",
              "                                                     [key], {});\n",
              "          if (!dataTable) return;\n",
              "\n",
              "          const docLinkHtml = 'Like what you see? Visit the ' +\n",
              "            '<a target=\"_blank\" href=https://colab.research.google.com/notebooks/data_table.ipynb>data table notebook</a>'\n",
              "            + ' to learn more about interactive tables.';\n",
              "          element.innerHTML = '';\n",
              "          dataTable['output_type'] = 'display_data';\n",
              "          await google.colab.output.renderOutput(dataTable, element);\n",
              "          const docLink = document.createElement('div');\n",
              "          docLink.innerHTML = docLinkHtml;\n",
              "          element.appendChild(docLink);\n",
              "        }\n",
              "      </script>\n",
              "    </div>\n",
              "  </div>\n",
              "  "
            ]
          },
          "metadata": {},
          "execution_count": 4
        }
      ]
    },
    {
      "cell_type": "code",
      "source": [
        "# Create X & y values\n",
        "X = ins_one_hot.drop(\"charges\", axis=1)\n"
      ],
      "metadata": {
        "id": "gryBUgwZl00c"
      },
      "execution_count": null,
      "outputs": []
    }
  ]
}